{
 "cells": [
  {
   "cell_type": "markdown",
   "id": "0a0ec716",
   "metadata": {},
   "source": [
    "**Exercise 1: (5 points) What is a perceptron? Be specific.**"
   ]
  },
  {
   "cell_type": "markdown",
   "id": "ba1af011",
   "metadata": {},
   "source": [
    "The perceptron was the first neural model and it is a neural network with with a single layer of input linear neurons followed by an output unit based on the sign(x) function. It is a machine learning algorithm for supervised learning of binary classifiers. If x is greater than 0 the output is 1, but if x is less than or equal to 0 then the output is 0. When a sample is misclassified, the weights are corrected proportional to the difference between the actual linear output and the true label. This is done in an effort to increase the performance of the model. The perceptron essentially creates a decision boundary to separate them to 1 or 0."
   ]
  },
  {
   "cell_type": "markdown",
   "id": "f41cc199",
   "metadata": {},
   "source": [
    "**Exercise 2: (5 points) What are the different types of perceptrons? Briefly describe each of them.**"
   ]
  },
  {
   "cell_type": "markdown",
   "id": "337cd1f0",
   "metadata": {},
   "source": [
    "The two types of perceptrons are Single Layer Perceptrons and Multi Layer Perceptrons.\n",
    " - Single Layer Perceptron - the single layer perceptron has a single layer of input neurons. It can only learn linearly separable patterns and separate them into binary outcomes\n",
    " - Multi Layer Perceptron - Similar to the single layer perceptron, but it can have multiple hidden layers. One of these hidden layers between input and output must be non linear. MLP also has greater processing power and can process linear and non-linear patterns. "
   ]
  },
  {
   "cell_type": "markdown",
   "id": "12596ee7",
   "metadata": {},
   "source": [
    "**Exercise 3: (5 points) What is a hard margin in a support vector machine model? Be specific.**"
   ]
  },
  {
   "cell_type": "markdown",
   "id": "7559a639",
   "metadata": {},
   "source": [
    "In SVM, we want to maximize the width of the margins (both the negative and positive hyperplane) distance from the boundary and classify the points correctly. A hard margin refers to fitting a model with no errors (no points within margin or misclassified). It is very rigid in classification and tries to perform extremely well in the training set. A soft margin allows some error and it allows us to work with linearly inseparable cases while a hard margin does not."
   ]
  },
  {
   "cell_type": "markdown",
   "id": "204b4a7f",
   "metadata": {},
   "source": [
    "**Exercise 4: (4 points) The effectiveness of a support vector machine model depends on:**\n",
    "- **(a) - kernel**\n",
    "- **(b) - kernel parameters**\n",
    "- **(c) - penalty cost parameter**\n",
    "- **(d) - All of the above**\n",
    "- **(e) - None of the above**"
   ]
  },
  {
   "cell_type": "markdown",
   "id": "ac9a71ea",
   "metadata": {},
   "source": [
    "(d) all of the above. You have to choose the kernal, kernal parameters, and the penalty cost parameter in a way that maximises your efficiency, reduces error, and prevents overfitting."
   ]
  },
  {
   "cell_type": "markdown",
   "id": "d856e3da",
   "metadata": {},
   "source": [
    "**Exercise 5: (4 points) What is/are true about kernel in SVM?**\n",
    "- **(a) - Kernel function map low dimensional data into high dimensional space.**\n",
    "- **(b) - Kernel function map high dimensional data into low dimensional space.**\n",
    "- **(c) - It is a similarity function.**\n",
    "- **(d) - (a) and (c)**\n",
    "- **(e) - (b) and (c)**\n",
    "- **(f) - (a), (b) and (c)**\n",
    "- **(g) - None of the above**\n"
   ]
  },
  {
   "cell_type": "markdown",
   "id": "04f719c5",
   "metadata": {},
   "source": [
    "(d) a and c. Kernal is a similarity function and it allows us to map low dimensional data into high dimensional space."
   ]
  },
  {
   "cell_type": "markdown",
   "id": "2bb6b04b",
   "metadata": {},
   "source": [
    "**Exercise 6: Consider the framingham.csv data file. The dataset is publically available on the Kaggle website, and it is from an ongoing cardiovascular study on residents of the town of Framingham, Massachusetts. The classification goal is to predict whether the patient has 10-year risk of future coronary heart disease (CHD). The dataset provides the patients? information. It includes over 4,000 records and 15 attributes. Each attribute is a potential risk factor. There are both demographic, behavioral and medical risk factors. In Python, answer the following:**\n"
   ]
  },
  {
   "cell_type": "markdown",
   "id": "62c4c248",
   "metadata": {},
   "source": [
    "(a) (4 points) Load the data file to you S3 bucket. Using the pandas library, read the csv data\n",
    "file and create a data-frame called heart."
   ]
  },
  {
   "cell_type": "code",
   "execution_count": 1,
   "id": "f687cffb",
   "metadata": {},
   "outputs": [
    {
     "data": {
      "text/html": [
       "<div>\n",
       "<style scoped>\n",
       "    .dataframe tbody tr th:only-of-type {\n",
       "        vertical-align: middle;\n",
       "    }\n",
       "\n",
       "    .dataframe tbody tr th {\n",
       "        vertical-align: top;\n",
       "    }\n",
       "\n",
       "    .dataframe thead th {\n",
       "        text-align: right;\n",
       "    }\n",
       "</style>\n",
       "<table border=\"1\" class=\"dataframe\">\n",
       "  <thead>\n",
       "    <tr style=\"text-align: right;\">\n",
       "      <th></th>\n",
       "      <th>male</th>\n",
       "      <th>age</th>\n",
       "      <th>education</th>\n",
       "      <th>currentSmoker</th>\n",
       "      <th>cigsPerDay</th>\n",
       "      <th>BPMeds</th>\n",
       "      <th>prevalentStroke</th>\n",
       "      <th>prevalentHyp</th>\n",
       "      <th>diabetes</th>\n",
       "      <th>totChol</th>\n",
       "      <th>sysBP</th>\n",
       "      <th>diaBP</th>\n",
       "      <th>BMI</th>\n",
       "      <th>heartRate</th>\n",
       "      <th>glucose</th>\n",
       "      <th>TenYearCHD</th>\n",
       "    </tr>\n",
       "  </thead>\n",
       "  <tbody>\n",
       "    <tr>\n",
       "      <th>0</th>\n",
       "      <td>1</td>\n",
       "      <td>39</td>\n",
       "      <td>4.0</td>\n",
       "      <td>0</td>\n",
       "      <td>0.0</td>\n",
       "      <td>0.0</td>\n",
       "      <td>0</td>\n",
       "      <td>0</td>\n",
       "      <td>0</td>\n",
       "      <td>195.0</td>\n",
       "      <td>106.0</td>\n",
       "      <td>70.0</td>\n",
       "      <td>26.97</td>\n",
       "      <td>80.0</td>\n",
       "      <td>77.0</td>\n",
       "      <td>0</td>\n",
       "    </tr>\n",
       "    <tr>\n",
       "      <th>1</th>\n",
       "      <td>0</td>\n",
       "      <td>46</td>\n",
       "      <td>2.0</td>\n",
       "      <td>0</td>\n",
       "      <td>0.0</td>\n",
       "      <td>0.0</td>\n",
       "      <td>0</td>\n",
       "      <td>0</td>\n",
       "      <td>0</td>\n",
       "      <td>250.0</td>\n",
       "      <td>121.0</td>\n",
       "      <td>81.0</td>\n",
       "      <td>28.73</td>\n",
       "      <td>95.0</td>\n",
       "      <td>76.0</td>\n",
       "      <td>0</td>\n",
       "    </tr>\n",
       "    <tr>\n",
       "      <th>2</th>\n",
       "      <td>1</td>\n",
       "      <td>48</td>\n",
       "      <td>1.0</td>\n",
       "      <td>1</td>\n",
       "      <td>20.0</td>\n",
       "      <td>0.0</td>\n",
       "      <td>0</td>\n",
       "      <td>0</td>\n",
       "      <td>0</td>\n",
       "      <td>245.0</td>\n",
       "      <td>127.5</td>\n",
       "      <td>80.0</td>\n",
       "      <td>25.34</td>\n",
       "      <td>75.0</td>\n",
       "      <td>70.0</td>\n",
       "      <td>0</td>\n",
       "    </tr>\n",
       "    <tr>\n",
       "      <th>3</th>\n",
       "      <td>0</td>\n",
       "      <td>61</td>\n",
       "      <td>3.0</td>\n",
       "      <td>1</td>\n",
       "      <td>30.0</td>\n",
       "      <td>0.0</td>\n",
       "      <td>0</td>\n",
       "      <td>1</td>\n",
       "      <td>0</td>\n",
       "      <td>225.0</td>\n",
       "      <td>150.0</td>\n",
       "      <td>95.0</td>\n",
       "      <td>28.58</td>\n",
       "      <td>65.0</td>\n",
       "      <td>103.0</td>\n",
       "      <td>1</td>\n",
       "    </tr>\n",
       "    <tr>\n",
       "      <th>4</th>\n",
       "      <td>0</td>\n",
       "      <td>46</td>\n",
       "      <td>3.0</td>\n",
       "      <td>1</td>\n",
       "      <td>23.0</td>\n",
       "      <td>0.0</td>\n",
       "      <td>0</td>\n",
       "      <td>0</td>\n",
       "      <td>0</td>\n",
       "      <td>285.0</td>\n",
       "      <td>130.0</td>\n",
       "      <td>84.0</td>\n",
       "      <td>23.10</td>\n",
       "      <td>85.0</td>\n",
       "      <td>85.0</td>\n",
       "      <td>0</td>\n",
       "    </tr>\n",
       "  </tbody>\n",
       "</table>\n",
       "</div>"
      ],
      "text/plain": [
       "   male  age  education  currentSmoker  cigsPerDay  BPMeds  prevalentStroke  \\\n",
       "0     1   39        4.0              0         0.0     0.0                0   \n",
       "1     0   46        2.0              0         0.0     0.0                0   \n",
       "2     1   48        1.0              1        20.0     0.0                0   \n",
       "3     0   61        3.0              1        30.0     0.0                0   \n",
       "4     0   46        3.0              1        23.0     0.0                0   \n",
       "\n",
       "   prevalentHyp  diabetes  totChol  sysBP  diaBP    BMI  heartRate  glucose  \\\n",
       "0             0         0    195.0  106.0   70.0  26.97       80.0     77.0   \n",
       "1             0         0    250.0  121.0   81.0  28.73       95.0     76.0   \n",
       "2             0         0    245.0  127.5   80.0  25.34       75.0     70.0   \n",
       "3             1         0    225.0  150.0   95.0  28.58       65.0    103.0   \n",
       "4             0         0    285.0  130.0   84.0  23.10       85.0     85.0   \n",
       "\n",
       "   TenYearCHD  \n",
       "0           0  \n",
       "1           0  \n",
       "2           0  \n",
       "3           1  \n",
       "4           0  "
      ]
     },
     "execution_count": 1,
     "metadata": {},
     "output_type": "execute_result"
    }
   ],
   "source": [
    "import boto3\n",
    "import pandas as pd; pd.set_option('display.max_column', 100)\n",
    "import numpy as np\n",
    "import matplotlib.pyplot as plt\n",
    "import tensorflow as tf\n",
    "import warnings\n",
    "warnings.filterwarnings(\"ignore\")\n",
    "\n",
    "from sklearn.preprocessing import MinMaxScaler\n",
    "from sklearn.model_selection import train_test_split\n",
    "from sklearn.metrics import recall_score\n",
    "from sklearn.svm import SVC\n",
    "\n",
    "\n",
    "## Defining the s3 bucket\n",
    "s3 = boto3.resource('s3')\n",
    "bucket_name = 'craig-shaffer-data-445-bucket'\n",
    "bucket = s3.Bucket(bucket_name)\n",
    "\n",
    "## Defining the file to be read from s3 bucket\n",
    "file_key = 'framingham.csv'\n",
    "\n",
    "bucket_object = bucket.Object(file_key)\n",
    "file_object = bucket_object.get()\n",
    "file_content_stream = file_object.get('Body')\n",
    "\n",
    "# reading the datafile\n",
    "heart = pd.read_csv(file_content_stream)\n",
    "heart.head()"
   ]
  },
  {
   "cell_type": "markdown",
   "id": "2c28ab59",
   "metadata": {},
   "source": [
    "(b) (3 points) Remove observations with missing values."
   ]
  },
  {
   "cell_type": "code",
   "execution_count": 2,
   "id": "6dc9ce67",
   "metadata": {},
   "outputs": [],
   "source": [
    "#dropping observations w/ missing values\n",
    "heart = heart.dropna()"
   ]
  },
  {
   "cell_type": "markdown",
   "id": "24becad4",
   "metadata": {},
   "source": [
    "(c) (40 points) Using age, currentSmoker, totChol, BMI, and heartRate as the predictor vari\u0002ables, and TenYearCHD as the target variable, do the following:\n",
    "- (i) Split the data into train (80%) and test (20%).\n",
    "- (ii) Using MinMaxScaler, transform all the input variables in the train and test datasets to 0-1 scale.\n",
    "  - Build a multi-layer perceptron model with one single hidden layer with 4 neurons (hyperbolic tangent as the activation function) and softmax as the activation function for the output. Use the stochastic descent gradient as the method to estimate the weights (optimizer = ’sgd’) and metrics = [’accuracy’]. Use epochs = 100 and batch size = 500 to build the model. After that, use the model to predict on the test dataset. Using 15% as the cut-off value, report the recall of this model.\n",
    "  - Build a multi-layer perceptron model with one single hidden layer with 4 neurons (ReLU as the activation function) and softmax as the activation function for the output. Use the stochastic descent gradient as the method to estimate the weights (optimizer = ’sgd’) and metrics = [’accuracy’]. Use epochs = 100 and batch size = 500 to build the model. After that, use the model to predict on the test dataset. Using 15% as the cut-off value, report the recall of this model.\n",
    "  - Build a support vector machine model using rbf as the kernel. After that, use the model to predict on the test dataset. Using 15% as the cut-off value, report the recall of this model.\n",
    "  - Build a support vector machine model using poly as the kernel. After that, use the model to predict on the test dataset. Using 15% as the cut-off value, report the recall of this model."
   ]
  },
  {
   "cell_type": "code",
   "execution_count": 3,
   "id": "fa6f2ba4",
   "metadata": {},
   "outputs": [],
   "source": [
    "#defining the input and target\n",
    "x = heart[['age', 'currentSmoker', 'totChol', 'BMI', 'heartRate']]\n",
    "y = heart[['TenYearCHD']]\n",
    "\n",
    "#transforming the input data\n",
    "x_train,x_test,y_train,y_test = train_test_split(x,y,test_size = .2)"
   ]
  },
  {
   "cell_type": "code",
   "execution_count": 4,
   "id": "ce5fc7bf",
   "metadata": {},
   "outputs": [],
   "source": [
    "#scale the data\n",
    "scaler = MinMaxScaler()\n",
    "x_train = scaler.fit_transform(x_train)\n",
    "x_test = scaler.fit_transform(x_test)\n",
    "\n"
   ]
  },
  {
   "cell_type": "code",
   "execution_count": 7,
   "id": "c6c7564d",
   "metadata": {},
   "outputs": [
    {
     "name": "stdout",
     "output_type": "stream",
     "text": [
      "the recall for model 1 is 0.3486238532110092\n",
      "the recall for model 2 is 0.8348623853211009\n",
      "the recall for model 3 is 0.7247706422018348\n",
      "the recall for model 4 is 0.6330275229357798\n"
     ]
    }
   ],
   "source": [
    "#defining model 1\n",
    "md1 = tf.keras.models.Sequential([\n",
    "    tf.keras.layers.Dense(4, input_dim = 5, activation = 'tanh'),\n",
    "    tf.keras.layers.Dense(2, activation = 'softmax')\n",
    "])\n",
    "md1.compile(optimizer= 'sgd', loss = 'categorical_crossentropy', metrics= ['accuracy']) \n",
    "md1.fit(x_train, tf.keras.utils.to_categorical(y_train, num_classes = 2), epochs = 100, batch_size= 500,validation_data = (x_test, tf.keras.utils.to_categorical(y_test,num_classes = 2)),verbose=0)\n",
    "#predict on test\n",
    "md1_pred= md1.predict(x_test)[:, 1]\n",
    "#changing likelihoods to labels - set the 15% cut off\n",
    "md1_labels = np.where(md1_pred<0.15,0,1)\n",
    "#compute recall \n",
    "md1_recall = recall_score(y_test, md1_labels)\n",
    "\n",
    "#defining model 2\n",
    "md2 = tf.keras.models.Sequential([\n",
    "    tf.keras.layers.Dense(4, input_dim = 5, activation = 'relu'),\n",
    "    tf.keras.layers.Dense(2, activation = 'softmax')\n",
    "])\n",
    "md2.compile(optimizer= 'sgd', loss = 'categorical_crossentropy', metrics= ['accuracy']) \n",
    "md2.fit(x_train, tf.keras.utils.to_categorical(y_train, num_classes = 2), epochs = 100, batch_size= 500, validation_data = (x_test, tf.keras.utils.to_categorical(y_test,num_classes = 2)),verbose=0)\n",
    "#predict on test\n",
    "md2_pred= md2.predict(x_test)[:,1]\n",
    "#changing likelihoods to labels - set the 15% cut off\n",
    "md2_labels = np.where(md2_pred<0.15,0,1)\n",
    "#compute recall \n",
    "md2_recall = recall_score(y_test, md2_labels)\n",
    "\n",
    "#defining model 3\n",
    "#building the support vector machine model kernal = 'rbf'\n",
    "md3 = SVC(kernel = 'rbf', probability = True).fit(x_train, y_train)\n",
    "#predict on test\n",
    "md3_pred = md3.predict_proba(x_test)[:,1]\n",
    "#changing likelihoods to labels - set the 15% cut off\n",
    "md3_labels = np.where(md3_pred<0.15,0,1)\n",
    "#compute recall \n",
    "md3_recall= recall_score(y_test, md3_labels)\n",
    "\n",
    "#defining model 4\n",
    "#building the support vector machine model kernal = 'rbf'\n",
    "md4 = SVC(kernel = 'poly', probability = True).fit(x_train, y_train)\n",
    "#predict on test\n",
    "md4_pred = md4.predict_proba(x_test)[:,1]\n",
    "#changing likelihoods to labels - set the 15% cut off\n",
    "md4_labels = np.where(md4_pred<0.15,0,1)\n",
    "#compute recall \n",
    "md4_recall= recall_score(y_test, md4_labels)\n",
    "\n",
    "\n",
    "print('the recall for model 1 is',md1_recall)\n",
    "print('the recall for model 2 is',md2_recall)\n",
    "print('the recall for model 3 is',md3_recall)\n",
    "print('the recall for model 4 is',md4_recall)"
   ]
  },
  {
   "cell_type": "markdown",
   "id": "0df9e0e1",
   "metadata": {},
   "source": [
    "(d) (20 points) Repeat part (c) 100 times. Create a visualization that shows the recall value for\n",
    "each of the models at each iteration. Also, report the average recall of each of the model for\n",
    "the 100 repetitions. What model would use to predict TenYearCHD?"
   ]
  },
  {
   "cell_type": "code",
   "execution_count": 8,
   "id": "f71a1a5d",
   "metadata": {},
   "outputs": [
    {
     "name": "stdout",
     "output_type": "stream",
     "text": [
      "The average recall for model 1 is 0.5526056908264223\n",
      "The average recall for model 2 is 0.6700268448965625\n",
      "The average recall for model 3 is 0.6469430339523247\n",
      "The average recall for model 4 is 0.594082014138755\n"
     ]
    }
   ],
   "source": [
    "#defining the input and target\n",
    "x = heart[['age', 'currentSmoker', 'totChol', 'BMI', 'heartRate']]\n",
    "y = heart[['TenYearCHD']]\n",
    "\n",
    "#list to store results\n",
    "md1_results = list()\n",
    "md2_results = list()\n",
    "md3_results = list()\n",
    "md4_results = list()\n",
    "\n",
    "for i in range (0,100):\n",
    "        \n",
    "    #splitting the data\n",
    "    x_train,x_test,y_train,y_test = train_test_split(x,y,test_size = .2)\n",
    "    \n",
    "    #transforming the input data\n",
    "    scaler = MinMaxScaler()\n",
    "    x_train = scaler.fit_transform(x_train)\n",
    "    x_test = scaler.fit_transform(x_test)\n",
    "    \n",
    "    #defining model 1\n",
    "    md1 = tf.keras.models.Sequential([\n",
    "        tf.keras.layers.Dense(4, input_dim = 5, activation = 'tanh'),\n",
    "        tf.keras.layers.Dense(2, activation = 'softmax')\n",
    "    ])\n",
    "    md1.compile(optimizer= 'sgd', loss = 'categorical_crossentropy', metrics= ['accuracy']) \n",
    "    md1.fit(x_train, tf.keras.utils.to_categorical(y_train, num_classes = 2), epochs = 100, batch_size= 500, validation_data = (x_test, tf.keras.utils.to_categorical(y_test,num_classes = 2)),verbose=0)\n",
    "    #predict on test\n",
    "    md1_pred= md1.predict(x_test)[:,1]\n",
    "    #changing likelihoods to labels - set the 15% cut off\n",
    "    md1_labels = np.where(md1_pred<0.15,0,1)\n",
    "    #compute recall \n",
    "    md1_recall = recall_score(y_test, md1_labels)\n",
    "    md1_results.append(md1_recall)\n",
    "    \n",
    "    #defining model 2\n",
    "    md2 = tf.keras.models.Sequential([\n",
    "        tf.keras.layers.Dense(4, input_dim = 5, activation = 'relu'),\n",
    "        tf.keras.layers.Dense(2, activation = 'softmax')\n",
    "    ])\n",
    "    md2.compile(optimizer= 'sgd', loss = 'categorical_crossentropy', metrics= ['accuracy']) \n",
    "    md2.fit(x_train, tf.keras.utils.to_categorical(y_train, num_classes = 2), epochs = 100, batch_size= 500, validation_data = (x_test, tf.keras.utils.to_categorical(y_test,num_classes = 2)),verbose=0)\n",
    "    #predict on test\n",
    "    md2_pred= md2.predict(x_test)[:,1]\n",
    "    #changing likelihoods to labels - set the 15% cut off\n",
    "    md2_labels = np.where(md2_pred<0.15,0,1)\n",
    "    #compute recall \n",
    "    md2_recall = recall_score(y_test, md2_labels)\n",
    "    md2_results.append(md2_recall)\n",
    "    \n",
    "    #defining model 3\n",
    "    #building the support vector machine model kernal = 'rbf'\n",
    "    md3 = SVC(kernel = 'rbf', probability = True).fit(x_train, y_train)\n",
    "    #predict on test\n",
    "    md3_pred = md3.predict_proba(x_test)[:,1]\n",
    "    #changing likelihoods to labels - set the 15% cut off\n",
    "    md3_labels = np.where(md3_pred<0.15,0,1)\n",
    "    #compute recall \n",
    "    md3_recall= recall_score(y_test, md3_labels)\n",
    "    md3_results.append(md3_recall)\n",
    "    \n",
    "    #defining model 4\n",
    "    #building the support vector machine model kernal = 'poly'\n",
    "    md4 = SVC(kernel = 'poly', probability = True).fit(x_train, y_train)\n",
    "    #predict on test\n",
    "    md4_pred = md4.predict_proba(x_test)[:,1]\n",
    "    #changing likelihoods to labels - set the 15% cut off\n",
    "    md4_labels = np.where(md4_pred<0.15,0,1)\n",
    "    #compute recall \n",
    "    md4_recall= recall_score(y_test, md4_labels)\n",
    "    md4_results.append(md4_recall)\n",
    "\n",
    "print('The average recall for model 1 is', np.mean(md1_results))\n",
    "print('The average recall for model 2 is',np.mean(md2_results))\n",
    "print('The average recall for model 3 is',np.mean(md3_results))\n",
    "print('The average recall for model 4 is',np.mean(md4_results))"
   ]
  },
  {
   "cell_type": "code",
   "execution_count": 11,
   "id": "7a9d541e",
   "metadata": {},
   "outputs": [
    {
     "data": {
      "image/png": "[encoded data removed]",
      "text/plain": [
       "<Figure size 432x288 with 1 Axes>"
      ]
     },
     "metadata": {
      "needs_background": "light"
     },
     "output_type": "display_data"
    }
   ],
   "source": [
    "index=np.linspace(0,99,num=100)\n",
    "plt.plot(index,md1_results, label = 'Model 1')\n",
    "plt.plot(index,md2_results, label = 'Model 2')\n",
    "plt.plot(index,md3_results, label = 'Model 3')\n",
    "plt.plot(index,md4_results, label = 'Model 4')\n",
    "plt.xlabel('Iteration')\n",
    "plt.ylabel('Recall')\n",
    "plt.legend(loc = 'lower right')\n",
    "plt.grid()\n",
    "plt.show()"
   ]
  },
  {
   "cell_type": "markdown",
   "id": "28be39b6",
   "metadata": {},
   "source": [
    "Based on the average recall values of the four models and  the plot, I would use model 2 (4 neuron relu, softmax for output, sgd optimizer) to predict TenYearCHD. It had the highest average recall of the four models (0.6700268448965625) and you can see model 2's yellow line above the others in the plot for most iterations."
   ]
  },
  {
   "cell_type": "code",
   "execution_count": null,
   "id": "23550df5",
   "metadata": {},
   "outputs": [],
   "source": []
  }
 ],
 "metadata": {
  "kernelspec": {
   "display_name": "conda_amazonei_tensorflow2_p36",
   "language": "python",
   "name": "conda_amazonei_tensorflow2_p36"
  },
  "language_info": {
   "codemirror_mode": {
    "name": "ipython",
    "version": 3
   },
   "file_extension": ".py",
   "mimetype": "text/x-python",
   "name": "python",
   "nbconvert_exporter": "python",
   "pygments_lexer": "ipython3",
   "version": "3.6.13"
  }
 },
 "nbformat": 4,
 "nbformat_minor": 5
}
