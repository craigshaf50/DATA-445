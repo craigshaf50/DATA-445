{
 "cells": [
  {
   "cell_type": "markdown",
   "id": "e0895446",
   "metadata": {},
   "source": [
    "**Exercise 1: (5 points) What is a perceptron? Be specific.**"
   ]
  },
  {
   "cell_type": "markdown",
   "id": "221b306c",
   "metadata": {},
   "source": [
    "The perceptron was the first neural model and it is a neural network with with a single layer of input linear neurons followed by an output unit based on the sign(x) function. It is a machine learning algorithm for supervised learning of binary classifiers. If x is greater than 0 the output is 1, but if x is less than or equal to 0 then the output is 0. When a sample is misclassified, the weights are corrected proportional to the difference between the actual linear output and the true label. This is done in an effort to increase the performance of the model. The perceptron essentially creates a decision boundary to separate them to 1 or 0."
   ]
  },
  {
   "cell_type": "markdown",
   "id": "56d584ef",
   "metadata": {},
   "source": [
    "**Exercise 2: (5 points) What are the different types of perceptrons? Briefly describe each of them.**"
   ]
  },
  {
   "cell_type": "markdown",
   "id": "25046ed5",
   "metadata": {},
   "source": [
    "The two types of perceptrons are Single Layer Perceptrons and Multi Layer Perceptrons.\n",
    " - Single Layer Perceptron - the single layer perceptron has a single layer of input neurons. It can only learn linearly separable patterns and separate them into binary outcomes\n",
    " - Multi Layer Perceptron - Similar to the single layer perceptron, but it can have multiple hidden layers. One of these hidden layers between input and output must be non linear. MLP also has greater processing power and can process linear and non-linear patterns. "
   ]
  },
  {
   "cell_type": "markdown",
   "id": "32dabe80",
   "metadata": {},
   "source": [
    "**Exercise 3: (5 points) What is a hard margin in a support vector machine model? Be specific.**"
   ]
  },
  {
   "cell_type": "markdown",
   "id": "80967515",
   "metadata": {},
   "source": [
    "In SVM, we want to maximize the width of the margins (both the negative and positive hyperplane) distance from the boundary and classify the points correctly. A hard margin refers to fitting a model with no errors (no points within margin or misclassified). A soft margin allows some error and it allows us to work with linearly inseparable cases while a hard margin does not."
   ]
  },
  {
   "cell_type": "markdown",
   "id": "cb473a34",
   "metadata": {},
   "source": [
    "**Exercise 4: (4 points) The effectiveness of a support vector machine model depends on:**\n",
    "- **(a) - kernel**\n",
    "- **(b) - kernel parameters**\n",
    "- **(c) - penalty cost parameter**\n",
    "- **(d) - All of the above**\n",
    "- **(e) - None of the above**"
   ]
  },
  {
   "cell_type": "markdown",
   "id": "7c88ac00",
   "metadata": {},
   "source": [
    "(d) all of the above. You have to choose the kernal, kernal parameters, and the penalty cost parameter in a way that maximises your efficiency, reduces error, and prevents overfitting."
   ]
  },
  {
   "cell_type": "markdown",
   "id": "e270b11b",
   "metadata": {},
   "source": [
    "**Exercise 5: (4 points) What is/are true about kernel in SVM?**\n",
    "- **(a) - Kernel function map low dimensional data into high dimensional space.**\n",
    "- **(b) - Kernel function map high dimensional data into low dimensional space.**\n",
    "- **(c) - It is a similarity function.**\n",
    "- **(d) - (a) and (c)**\n",
    "- **(e) - (b) and (c)**\n",
    "- **(f) - (a), (b) and (c)**\n",
    "- **(g) - None of the above**\n"
   ]
  },
  {
   "cell_type": "markdown",
   "id": "89f6b498",
   "metadata": {},
   "source": [
    "(d) a and c. Kernal is a similarity function and it allows us to map low dimensional data into high dimensional space."
   ]
  },
  {
   "cell_type": "markdown",
   "id": "03902548",
   "metadata": {},
   "source": [
    "**Exercise 6: Consider the framingham.csv data file. The dataset is publically available on the Kaggle website, and it is from an ongoing cardiovascular study on residents of the town of Framingham, Massachusetts. The classification goal is to predict whether the patient has 10-year risk of future coronary heart disease (CHD). The dataset provides the patients? information. It includes over 4,000 records and 15 attributes. Each attribute is a potential risk factor. There are both demographic, behavioral and medical risk factors. In Python, answer the following:**\n"
   ]
  },
  {
   "cell_type": "markdown",
   "id": "bca4398e",
   "metadata": {},
   "source": [
    "(a) (4 points) Load the data file to you S3 bucket. Using the pandas library, read the csv data\n",
    "file and create a data-frame called heart."
   ]
  },
  {
   "cell_type": "code",
   "execution_count": 4,
   "id": "f7e75f3c",
   "metadata": {},
   "outputs": [
    {
     "name": "stderr",
     "output_type": "stream",
     "text": [
      "/home/ec2-user/anaconda3/envs/amazonei_tensorflow2_p36/lib/python3.6/site-packages/boto3/compat.py:88: PythonDeprecationWarning: Boto3 will no longer support Python 3.6 starting May 30, 2022. To continue receiving service updates, bug fixes, and security updates please upgrade to Python 3.7 or later. More information can be found here: https://aws.amazon.com/blogs/developer/python-support-policy-updates-for-aws-sdks-and-tools/\n",
      "  warnings.warn(warning, PythonDeprecationWarning)\n"
     ]
    },
    {
     "data": {
      "text/html": [
       "<div>\n",
       "<style scoped>\n",
       "    .dataframe tbody tr th:only-of-type {\n",
       "        vertical-align: middle;\n",
       "    }\n",
       "\n",
       "    .dataframe tbody tr th {\n",
       "        vertical-align: top;\n",
       "    }\n",
       "\n",
       "    .dataframe thead th {\n",
       "        text-align: right;\n",
       "    }\n",
       "</style>\n",
       "<table border=\"1\" class=\"dataframe\">\n",
       "  <thead>\n",
       "    <tr style=\"text-align: right;\">\n",
       "      <th></th>\n",
       "      <th>male</th>\n",
       "      <th>age</th>\n",
       "      <th>education</th>\n",
       "      <th>currentSmoker</th>\n",
       "      <th>cigsPerDay</th>\n",
       "      <th>BPMeds</th>\n",
       "      <th>prevalentStroke</th>\n",
       "      <th>prevalentHyp</th>\n",
       "      <th>diabetes</th>\n",
       "      <th>totChol</th>\n",
       "      <th>sysBP</th>\n",
       "      <th>diaBP</th>\n",
       "      <th>BMI</th>\n",
       "      <th>heartRate</th>\n",
       "      <th>glucose</th>\n",
       "      <th>TenYearCHD</th>\n",
       "    </tr>\n",
       "  </thead>\n",
       "  <tbody>\n",
       "    <tr>\n",
       "      <th>0</th>\n",
       "      <td>1</td>\n",
       "      <td>39</td>\n",
       "      <td>4.0</td>\n",
       "      <td>0</td>\n",
       "      <td>0.0</td>\n",
       "      <td>0.0</td>\n",
       "      <td>0</td>\n",
       "      <td>0</td>\n",
       "      <td>0</td>\n",
       "      <td>195.0</td>\n",
       "      <td>106.0</td>\n",
       "      <td>70.0</td>\n",
       "      <td>26.97</td>\n",
       "      <td>80.0</td>\n",
       "      <td>77.0</td>\n",
       "      <td>0</td>\n",
       "    </tr>\n",
       "    <tr>\n",
       "      <th>1</th>\n",
       "      <td>0</td>\n",
       "      <td>46</td>\n",
       "      <td>2.0</td>\n",
       "      <td>0</td>\n",
       "      <td>0.0</td>\n",
       "      <td>0.0</td>\n",
       "      <td>0</td>\n",
       "      <td>0</td>\n",
       "      <td>0</td>\n",
       "      <td>250.0</td>\n",
       "      <td>121.0</td>\n",
       "      <td>81.0</td>\n",
       "      <td>28.73</td>\n",
       "      <td>95.0</td>\n",
       "      <td>76.0</td>\n",
       "      <td>0</td>\n",
       "    </tr>\n",
       "    <tr>\n",
       "      <th>2</th>\n",
       "      <td>1</td>\n",
       "      <td>48</td>\n",
       "      <td>1.0</td>\n",
       "      <td>1</td>\n",
       "      <td>20.0</td>\n",
       "      <td>0.0</td>\n",
       "      <td>0</td>\n",
       "      <td>0</td>\n",
       "      <td>0</td>\n",
       "      <td>245.0</td>\n",
       "      <td>127.5</td>\n",
       "      <td>80.0</td>\n",
       "      <td>25.34</td>\n",
       "      <td>75.0</td>\n",
       "      <td>70.0</td>\n",
       "      <td>0</td>\n",
       "    </tr>\n",
       "    <tr>\n",
       "      <th>3</th>\n",
       "      <td>0</td>\n",
       "      <td>61</td>\n",
       "      <td>3.0</td>\n",
       "      <td>1</td>\n",
       "      <td>30.0</td>\n",
       "      <td>0.0</td>\n",
       "      <td>0</td>\n",
       "      <td>1</td>\n",
       "      <td>0</td>\n",
       "      <td>225.0</td>\n",
       "      <td>150.0</td>\n",
       "      <td>95.0</td>\n",
       "      <td>28.58</td>\n",
       "      <td>65.0</td>\n",
       "      <td>103.0</td>\n",
       "      <td>1</td>\n",
       "    </tr>\n",
       "    <tr>\n",
       "      <th>4</th>\n",
       "      <td>0</td>\n",
       "      <td>46</td>\n",
       "      <td>3.0</td>\n",
       "      <td>1</td>\n",
       "      <td>23.0</td>\n",
       "      <td>0.0</td>\n",
       "      <td>0</td>\n",
       "      <td>0</td>\n",
       "      <td>0</td>\n",
       "      <td>285.0</td>\n",
       "      <td>130.0</td>\n",
       "      <td>84.0</td>\n",
       "      <td>23.10</td>\n",
       "      <td>85.0</td>\n",
       "      <td>85.0</td>\n",
       "      <td>0</td>\n",
       "    </tr>\n",
       "  </tbody>\n",
       "</table>\n",
       "</div>"
      ],
      "text/plain": [
       "   male  age  education  currentSmoker  cigsPerDay  BPMeds  prevalentStroke  \\\n",
       "0     1   39        4.0              0         0.0     0.0                0   \n",
       "1     0   46        2.0              0         0.0     0.0                0   \n",
       "2     1   48        1.0              1        20.0     0.0                0   \n",
       "3     0   61        3.0              1        30.0     0.0                0   \n",
       "4     0   46        3.0              1        23.0     0.0                0   \n",
       "\n",
       "   prevalentHyp  diabetes  totChol  sysBP  diaBP    BMI  heartRate  glucose  \\\n",
       "0             0         0    195.0  106.0   70.0  26.97       80.0     77.0   \n",
       "1             0         0    250.0  121.0   81.0  28.73       95.0     76.0   \n",
       "2             0         0    245.0  127.5   80.0  25.34       75.0     70.0   \n",
       "3             1         0    225.0  150.0   95.0  28.58       65.0    103.0   \n",
       "4             0         0    285.0  130.0   84.0  23.10       85.0     85.0   \n",
       "\n",
       "   TenYearCHD  \n",
       "0           0  \n",
       "1           0  \n",
       "2           0  \n",
       "3           1  \n",
       "4           0  "
      ]
     },
     "execution_count": 4,
     "metadata": {},
     "output_type": "execute_result"
    }
   ],
   "source": [
    "import boto3\n",
    "import pandas as pd; pd.set_option('display.max_column', 100)\n",
    "import numpy as np\n",
    "import matplotlib.pyplot as plt\n",
    "import tensorflow as tf\n",
    "\n",
    "from sklearn.preprocessing import MinMaxScaler\n",
    "from sklearn.model_selection import train_test_split\n",
    "from sklearn.metrics import recall_score\n",
    "from sklearn.svm import SVC\n",
    "\n",
    "\n",
    "## Defining the s3 bucket\n",
    "s3 = boto3.resource('s3')\n",
    "bucket_name = 'craig-shaffer-data-445-bucket'\n",
    "bucket = s3.Bucket(bucket_name)\n",
    "\n",
    "## Defining the file to be read from s3 bucket\n",
    "file_key = 'framingham.csv'\n",
    "\n",
    "bucket_object = bucket.Object(file_key)\n",
    "file_object = bucket_object.get()\n",
    "file_content_stream = file_object.get('Body')\n",
    "\n",
    "# reading the datafile\n",
    "heart = pd.read_csv(file_content_stream)\n",
    "heart.head()"
   ]
  },
  {
   "cell_type": "markdown",
   "id": "f1b0985e",
   "metadata": {},
   "source": [
    "(b) (3 points) Remove observations with missing values."
   ]
  },
  {
   "cell_type": "code",
   "execution_count": 5,
   "id": "4bf194d9",
   "metadata": {},
   "outputs": [],
   "source": [
    "#dropping observations w/ missing values\n",
    "heart = heart.dropna()"
   ]
  },
  {
   "cell_type": "markdown",
   "id": "ba7e70db",
   "metadata": {},
   "source": [
    "(c) (40 points) Using age, currentSmoker, totChol, BMI, and heartRate as the predictor vari\u0002ables, and TenYearCHD as the target variable, do the following:\n",
    "- (i) Split the data into train (80%) and test (20%).\n",
    "- (ii) Using MinMaxScaler, transform all the input variables in the train and test datasets to 0-1 scale.\n",
    "  - Build a multi-layer perceptron model with one single hidden layer with 4 neurons (hyperbolic tangent as the activation function) and softmax as the activation function for the output. Use the stochastic descent gradient as the method to estimate the weights (optimizer = ’sgd’) and metrics = [’accuracy’]. Use epochs = 100 and batch size = 500 to build the model. After that, use the model to predict on the test dataset. Using 15% as the cut-off value, report the recall of this model.\n",
    "  - Build a multi-layer perceptron model with one single hidden layer with 4 neurons (ReLU as the activation function) and softmax as the activation function for the output. Use the stochastic descent gradient as the method to estimate the weights (optimizer = ’sgd’) and metrics = [’accuracy’]. Use epochs = 100 and batch size = 500 to build the model. After that, use the model to predict on the test dataset. Using 15% as the cut-off value, report the recall of this model.\n",
    "  - Build a support vector machine model using rbf as the kernel. After that, use the model to predict on the test dataset. Using 15% as the cut-off value, report the recall of this model.\n",
    "  - Build a support vector machine model using poly as the kernel. After that, use the model to predict on the test dataset. Using 15% as the cut-off value, report the recall of this model."
   ]
  },
  {
   "cell_type": "code",
   "execution_count": 6,
   "id": "9185bca8",
   "metadata": {},
   "outputs": [],
   "source": [
    "#defining the input and target\n",
    "x = heart[['age', 'currentSmoker', 'totChol', 'BMI', 'heartRate']]\n",
    "y = heart[['TenYearCHD']]\n",
    "\n",
    "#splitting the data\n",
    "x_train,x_test,y_train,y_test = train_test_split(x,y,test_size = .2)"
   ]
  },
  {
   "cell_type": "code",
   "execution_count": 7,
   "id": "08e60c2d",
   "metadata": {},
   "outputs": [],
   "source": [
    "#scale the data\n",
    "scaler = MinMaxScaler()\n",
    "x_train = scaler.fit_transform(x_train)\n",
    "x_test = scaler.fit_transform(x_test)"
   ]
  },
  {
   "cell_type": "code",
   "execution_count": null,
   "id": "271150b2",
   "metadata": {},
   "outputs": [],
   "source": []
  },
  {
   "cell_type": "markdown",
   "id": "689db1d8",
   "metadata": {},
   "source": [
    "(d) (20 points) Repeat part (c) 100 times. Create a visualization that shows the recall value for\n",
    "each of the models at each iteration. Also, report the average recall of each of the model for\n",
    "the 100 repetitions. What model would use to predict TenYearCHD?"
   ]
  },
  {
   "cell_type": "code",
   "execution_count": null,
   "id": "d4d183df",
   "metadata": {},
   "outputs": [],
   "source": []
  }
 ],
 "metadata": {
  "kernelspec": {
   "display_name": "conda_amazonei_tensorflow2_p36",
   "language": "python",
   "name": "conda_amazonei_tensorflow2_p36"
  },
  "language_info": {
   "codemirror_mode": {
    "name": "ipython",
    "version": 3
   },
   "file_extension": ".py",
   "mimetype": "text/x-python",
   "name": "python",
   "nbconvert_exporter": "python",
   "pygments_lexer": "ipython3",
   "version": "3.6.13"
  }
 },
 "nbformat": 4,
 "nbformat_minor": 5
}
