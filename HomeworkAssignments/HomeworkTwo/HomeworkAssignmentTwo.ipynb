{
 "cells": [
  {
   "cell_type": "markdown",
   "id": "f91e3ebd",
   "metadata": {},
   "source": [
    "**Exercise 1: (4 points) Given 1000 records in a dataset, 1000 models are trained with 999 records as part of\n",
    "the training sample and the remaining 1 sample for testing, and the error rate is averaged out,\n",
    "this validation technique is called**"
   ]
  },
  {
   "cell_type": "markdown",
   "id": "28141aa8",
   "metadata": {},
   "source": [
    "(c) LOOCV"
   ]
  },
  {
   "cell_type": "markdown",
   "id": "19f49e28",
   "metadata": {},
   "source": [
    "**Exercise 2: (4 points) In k-fold cross validation technique, the value of k being small could lead to which of\n",
    "the following in relation to the error rate**"
   ]
  },
  {
   "cell_type": "markdown",
   "id": "c72975b9",
   "metadata": {},
   "source": [
    "(c) high bias and low variance"
   ]
  },
  {
   "cell_type": "markdown",
   "id": "88e963ec",
   "metadata": {},
   "source": [
    "**Exercise 3: (4 points) In k-fold cross validation technique, the value of k being large could lead to which of\n",
    "the following in relation to the error rate**"
   ]
  },
  {
   "cell_type": "markdown",
   "id": "1cf7212d",
   "metadata": {},
   "source": [
    "(b) low bias and high variance"
   ]
  },
  {
   "cell_type": "markdown",
   "id": "553fdd5f",
   "metadata": {},
   "source": [
    "**Exercise 4: (6 points) Explain what regularization is and why it is useful**"
   ]
  },
  {
   "cell_type": "markdown",
   "id": "3ff3aa9c",
   "metadata": {},
   "source": [
    "Regularization involves fitting a model involving all the input variables. It shrinks the value of our variables to be closer to zero relative to the least squares estimates. This reduces our variance and prevents overfitting. In some cases, our coefficients can be estimated to be exactly zero. This gives the added bonus of helping with variable selection. Overall, regularization significantly reduces the variance of the model by shrinking the values of our coefficients towards zero, without substantial increase to bias."
   ]
  },
  {
   "cell_type": "markdown",
   "id": "51473657",
   "metadata": {},
   "source": [
    "**Exercise 5: Consider the framingham.csv data file. The dataset is publically available on the Kaggle website, and it is from an ongoing cardiovascular study on residents of the town of Framingham,\n",
    "Massachusetts. The classification goal is to predict whether the patient has 10-year risk of future coronary heart disease (CHD). The dataset provides the patients? information. It includes\n",
    "over 4,000 records and 15 attributes. Each attribute is a potential risk factor. There are both\n",
    "demographic, behavioral and medical risk factors. In Python, answer the following:**"
   ]
  },
  {
   "cell_type": "markdown",
   "id": "b9d5b3c9",
   "metadata": {},
   "source": [
    "_(a) (4 points) Using the pandas library, read the csv data file and create a data-frame called\n",
    "heart._"
   ]
  },
  {
   "cell_type": "code",
   "execution_count": 2,
   "id": "5ffc39fd",
   "metadata": {},
   "outputs": [
    {
     "data": {
      "text/html": [
       "<div>\n",
       "<style scoped>\n",
       "    .dataframe tbody tr th:only-of-type {\n",
       "        vertical-align: middle;\n",
       "    }\n",
       "\n",
       "    .dataframe tbody tr th {\n",
       "        vertical-align: top;\n",
       "    }\n",
       "\n",
       "    .dataframe thead th {\n",
       "        text-align: right;\n",
       "    }\n",
       "</style>\n",
       "<table border=\"1\" class=\"dataframe\">\n",
       "  <thead>\n",
       "    <tr style=\"text-align: right;\">\n",
       "      <th></th>\n",
       "      <th>male</th>\n",
       "      <th>age</th>\n",
       "      <th>education</th>\n",
       "      <th>currentSmoker</th>\n",
       "      <th>cigsPerDay</th>\n",
       "      <th>BPMeds</th>\n",
       "      <th>prevalentStroke</th>\n",
       "      <th>prevalentHyp</th>\n",
       "      <th>diabetes</th>\n",
       "      <th>totChol</th>\n",
       "      <th>sysBP</th>\n",
       "      <th>diaBP</th>\n",
       "      <th>BMI</th>\n",
       "      <th>heartRate</th>\n",
       "      <th>glucose</th>\n",
       "      <th>TenYearCHD</th>\n",
       "    </tr>\n",
       "  </thead>\n",
       "  <tbody>\n",
       "    <tr>\n",
       "      <th>0</th>\n",
       "      <td>1</td>\n",
       "      <td>39</td>\n",
       "      <td>4.0</td>\n",
       "      <td>0</td>\n",
       "      <td>0.0</td>\n",
       "      <td>0.0</td>\n",
       "      <td>0</td>\n",
       "      <td>0</td>\n",
       "      <td>0</td>\n",
       "      <td>195.0</td>\n",
       "      <td>106.0</td>\n",
       "      <td>70.0</td>\n",
       "      <td>26.97</td>\n",
       "      <td>80.0</td>\n",
       "      <td>77.0</td>\n",
       "      <td>0</td>\n",
       "    </tr>\n",
       "    <tr>\n",
       "      <th>1</th>\n",
       "      <td>0</td>\n",
       "      <td>46</td>\n",
       "      <td>2.0</td>\n",
       "      <td>0</td>\n",
       "      <td>0.0</td>\n",
       "      <td>0.0</td>\n",
       "      <td>0</td>\n",
       "      <td>0</td>\n",
       "      <td>0</td>\n",
       "      <td>250.0</td>\n",
       "      <td>121.0</td>\n",
       "      <td>81.0</td>\n",
       "      <td>28.73</td>\n",
       "      <td>95.0</td>\n",
       "      <td>76.0</td>\n",
       "      <td>0</td>\n",
       "    </tr>\n",
       "    <tr>\n",
       "      <th>2</th>\n",
       "      <td>1</td>\n",
       "      <td>48</td>\n",
       "      <td>1.0</td>\n",
       "      <td>1</td>\n",
       "      <td>20.0</td>\n",
       "      <td>0.0</td>\n",
       "      <td>0</td>\n",
       "      <td>0</td>\n",
       "      <td>0</td>\n",
       "      <td>245.0</td>\n",
       "      <td>127.5</td>\n",
       "      <td>80.0</td>\n",
       "      <td>25.34</td>\n",
       "      <td>75.0</td>\n",
       "      <td>70.0</td>\n",
       "      <td>0</td>\n",
       "    </tr>\n",
       "    <tr>\n",
       "      <th>3</th>\n",
       "      <td>0</td>\n",
       "      <td>61</td>\n",
       "      <td>3.0</td>\n",
       "      <td>1</td>\n",
       "      <td>30.0</td>\n",
       "      <td>0.0</td>\n",
       "      <td>0</td>\n",
       "      <td>1</td>\n",
       "      <td>0</td>\n",
       "      <td>225.0</td>\n",
       "      <td>150.0</td>\n",
       "      <td>95.0</td>\n",
       "      <td>28.58</td>\n",
       "      <td>65.0</td>\n",
       "      <td>103.0</td>\n",
       "      <td>1</td>\n",
       "    </tr>\n",
       "    <tr>\n",
       "      <th>4</th>\n",
       "      <td>0</td>\n",
       "      <td>46</td>\n",
       "      <td>3.0</td>\n",
       "      <td>1</td>\n",
       "      <td>23.0</td>\n",
       "      <td>0.0</td>\n",
       "      <td>0</td>\n",
       "      <td>0</td>\n",
       "      <td>0</td>\n",
       "      <td>285.0</td>\n",
       "      <td>130.0</td>\n",
       "      <td>84.0</td>\n",
       "      <td>23.10</td>\n",
       "      <td>85.0</td>\n",
       "      <td>85.0</td>\n",
       "      <td>0</td>\n",
       "    </tr>\n",
       "  </tbody>\n",
       "</table>\n",
       "</div>"
      ],
      "text/plain": [
       "   male  age  education  currentSmoker  cigsPerDay  BPMeds  prevalentStroke  \\\n",
       "0     1   39        4.0              0         0.0     0.0                0   \n",
       "1     0   46        2.0              0         0.0     0.0                0   \n",
       "2     1   48        1.0              1        20.0     0.0                0   \n",
       "3     0   61        3.0              1        30.0     0.0                0   \n",
       "4     0   46        3.0              1        23.0     0.0                0   \n",
       "\n",
       "   prevalentHyp  diabetes  totChol  sysBP  diaBP    BMI  heartRate  glucose  \\\n",
       "0             0         0    195.0  106.0   70.0  26.97       80.0     77.0   \n",
       "1             0         0    250.0  121.0   81.0  28.73       95.0     76.0   \n",
       "2             0         0    245.0  127.5   80.0  25.34       75.0     70.0   \n",
       "3             1         0    225.0  150.0   95.0  28.58       65.0    103.0   \n",
       "4             0         0    285.0  130.0   84.0  23.10       85.0     85.0   \n",
       "\n",
       "   TenYearCHD  \n",
       "0           0  \n",
       "1           0  \n",
       "2           0  \n",
       "3           1  \n",
       "4           0  "
      ]
     },
     "execution_count": 2,
     "metadata": {},
     "output_type": "execute_result"
    }
   ],
   "source": [
    "import boto3\n",
    "import pandas as pd\n",
    "import numpy as np\n",
    "\n",
    "from sklearn.model_selection import KFold\n",
    "from sklearn.linear_model import LogisticRegression\n",
    "from sklearn.preprocessing import MinMaxScaler\n",
    "from sklearn.metrics import f1_score\n",
    "\n",
    "## Defining the s3 bucket\n",
    "s3 = boto3.resource('s3')\n",
    "bucket_name = 'craig-shaffer-data-445-bucket'\n",
    "bucket = s3.Bucket(bucket_name)\n",
    "\n",
    "## Defining the file to be read from s3 bucket\n",
    "file_key = 'framingham.csv'\n",
    "\n",
    "bucket_object = bucket.Object(file_key)\n",
    "file_object = bucket_object.get()\n",
    "file_content_stream = file_object.get('Body')\n",
    "\n",
    "# reading the datafile\n",
    "heart = pd.read_csv(file_content_stream)\n",
    "heart.head()"
   ]
  },
  {
   "cell_type": "markdown",
   "id": "0d6e7832",
   "metadata": {},
   "source": [
    "_(b) (3 points) Remove observations with missing values._"
   ]
  },
  {
   "cell_type": "code",
   "execution_count": 3,
   "id": "81e86d74",
   "metadata": {},
   "outputs": [],
   "source": [
    "# removing observations with NA\n",
    "heart = heart.dropna()"
   ]
  },
  {
   "cell_type": "markdown",
   "id": "76bac70a",
   "metadata": {},
   "source": [
    "_(c) (25 points) Perform a 5-folds cross validation with the goal of measuring the performance,in terms of F1-score, of two competing models:_\n",
    "- _Using age, currentSmoker, totChol, sysBP, diaBP, BMI, heartRate, and glucose as the predictor variables, and TenYearCHD as the target variable build a logistic regression model under the 5-folds cross validation framework. Compute and store the F1-score for each iteration._\n",
    "- _Using age, currentSmoker, totChol, BMI, heartRate, and glucose as the predictor variables, and TenYearCHD as the target variable build a logistic regression model under the 5-folds cross validation framework. Compute and store the F1-score for each iteration._\n",
    "\n",
    "_Use 25% as threshold to change the likelihoods to labels. Make sure to scale the input variables of both models to 0-1 range (see MinMaxScaler) before you run the 5-fold cross validation framework. Also, you can use the f1_score function to compute the F1-score._\n",
    "\n",
    "\n"
   ]
  },
  {
   "cell_type": "code",
   "execution_count": 21,
   "id": "47c4b74c",
   "metadata": {},
   "outputs": [
    {
     "name": "stdout",
     "output_type": "stream",
     "text": [
      "[0.05309734513274336, 0.06504065040650406, 0.07272727272727272, 0.017391304347826087, 0.07874015748031496]\n",
      "[0.018348623853211007, 0.017241379310344827, 0.0, 0.05128205128205127, 0.0]\n"
     ]
    }
   ],
   "source": [
    "# scale the input variables of both models to 0-1 range\n",
    "scaler = MinMaxScaler()\n",
    "scaled = pd.DataFrame(scaler.fit_transform(heart), index= heart.index, columns= heart.columns)\n",
    "\n",
    "x= scaled.drop(columns = ['TenYearCHD'],axis=1)\n",
    "y= scaled['TenYearCHD']\n",
    "\n",
    "# defining folds\n",
    "kf = KFold(n_splits =5,shuffle=True)\n",
    "\n",
    "# defining the lists to store results\n",
    "f1score_1 = list()\n",
    "f1score_2 = list()\n",
    "\n",
    "for train_idx, val_idx in kf.split(x):\n",
    "    #splitting the data\n",
    "    x_train,x_val = x.iloc[train_idx],x.iloc[val_idx]\n",
    "    y_train,y_val = y.iloc[train_idx],y.iloc[val_idx]\n",
    "    \n",
    "    ## model 1 ##\n",
    "    x1 = x_train[['age', 'currentSmoker', 'totChol', 'sysBP', 'diaBP','BMI','heartRate','glucose']]\n",
    "    xval1 = x_val[['age', 'currentSmoker', 'totChol', 'sysBP', 'diaBP','BMI','heartRate','glucose']]\n",
    "    \n",
    "    md1 = LogisticRegression().fit(x1,y_train)\n",
    "    \n",
    "    #predicting on validation set\n",
    "    pred1 = md1.predict(xval1)\n",
    "    \n",
    "    #changing liklihoods to label w/ 25% threshold\n",
    "    pred_label= np.where(pred1<0.25,0,1)\n",
    "    \n",
    "    #computing f1 score\n",
    "    f1score_1.append(f1_score(y_val, pred_label))\n",
    "    \n",
    "    ## model 2 ##\n",
    "    x2 = x_train[['age', 'currentSmoker', 'totChol', 'BMI','heartRate','glucose']]\n",
    "    xval2 = x_val[['age', 'currentSmoker', 'totChol', 'BMI','heartRate','glucose']]\n",
    "    \n",
    "    md2 = LogisticRegression().fit(x2,y_train)\n",
    "    \n",
    "    #predicting on validation set\n",
    "    pred2 = md2.predict(xval2)\n",
    "    \n",
    "    #changing liklihoods to label w/ 25% threshold\n",
    "    pred_label= np.where(pred2<0.25,0,1)\n",
    "    \n",
    "    #computing f1 score\n",
    "    f1score_2.append(f1_score(y_val, pred_label))\n",
    "    \n",
    "print(f1score_1)\n",
    "print(f1score_2)"
   ]
  },
  {
   "cell_type": "markdown",
   "id": "14a46e5a",
   "metadata": {},
   "source": [
    "_(d) (4 points) Report the average F1-score of each of the models. What model would you use\n",
    "to predict TenYearCHD? Explain._"
   ]
  },
  {
   "cell_type": "code",
   "execution_count": 22,
   "id": "9fb0bfc4",
   "metadata": {},
   "outputs": [
    {
     "name": "stdout",
     "output_type": "stream",
     "text": [
      "The avg score of model one is 0.05739934601893224\n",
      "The avg score of model two is 0.017374410889121422\n"
     ]
    }
   ],
   "source": [
    "print('The avg score of model one is',np.mean(f1score_1))\n",
    "print('The avg score of model two is',np.mean(f1score_2))"
   ]
  },
  {
   "cell_type": "markdown",
   "id": "6ea5c75f",
   "metadata": {},
   "source": [
    "You would want to use model 1 to predict TenYearCHD. The avg f1 score of model 1 is higher. F1 scores can range from 0 to 1, with 1 representing a model that perfectly classifies each observation and 0 representing models that are unable to correctly classify an observation. So we want to chose model one because its avg f1 score is higher than model two."
   ]
  },
  {
   "cell_type": "code",
   "execution_count": null,
   "id": "d83d1918",
   "metadata": {},
   "outputs": [],
   "source": []
  }
 ],
 "metadata": {
  "kernelspec": {
   "display_name": "conda_python3",
   "language": "python",
   "name": "conda_python3"
  },
  "language_info": {
   "codemirror_mode": {
    "name": "ipython",
    "version": 3
   },
   "file_extension": ".py",
   "mimetype": "text/x-python",
   "name": "python",
   "nbconvert_exporter": "python",
   "pygments_lexer": "ipython3",
   "version": "3.8.12"
  }
 },
 "nbformat": 4,
 "nbformat_minor": 5
}
