{
 "cells": [
  {
   "cell_type": "markdown",
   "id": "50f6dc1b",
   "metadata": {},
   "source": [
    "**Exercise 1: (4 points) What type of algorithm would you use to segment a company customers database into\n",
    "multiple groups?**"
   ]
  },
  {
   "cell_type": "markdown",
   "id": "a35bdd43",
   "metadata": {},
   "source": [
    "You would use an unsupervised learning algorithm. More specifically, you would use a clustering algorithm (example: k-means clustering) to segment the customers into multiple groups."
   ]
  },
  {
   "cell_type": "markdown",
   "id": "eac84567",
   "metadata": {},
   "source": [
    "**Exercise 2: (4 points) Would you frame the problem of spam detection as a supervised learning problem or\n",
    "an unsupervised learning problem? Explain.**"
   ]
  },
  {
   "cell_type": "markdown",
   "id": "73056d67",
   "metadata": {},
   "source": [
    "I would you frame the problem of spam detection as a supervised learning problem. I think this because you would have to feed it emails along with their labels and then create a model to predict the model. The set up would be similar to in class assignments where you define your inputs (x values) and your target (y values). In this case, our target would be spam or not spam and our inputs would be the other data of our emails in the data set (ex- email address, character count, spelling accuracy, etc). Then you would split the data into train and test in order to train/test our model that would be used to predict whether the email is spam or not."
   ]
  },
  {
   "cell_type": "markdown",
   "id": "2a0658fb",
   "metadata": {},
   "source": [
    "**Exercise 3: (4 points) What is a test set, and why would you want to use it?**"
   ]
  },
  {
   "cell_type": "markdown",
   "id": "48472889",
   "metadata": {},
   "source": [
    "A test set is a separate data set from our training data set that is used to evaluate our models. For our in class assignments, we used an 80-20 split of our data to create our training and test sets (test being the 20% portion). Since our training set is used to build/train our model, we need a separate chunk of data to test our model on and thats where our test set comes in. Since it has been kept separate, it allows us to get an unbiased measure of the performance of our model."
   ]
  },
  {
   "cell_type": "markdown",
   "id": "bbc99a55",
   "metadata": {},
   "source": [
    "**Exercise 4: (4 points) You are training a classification model with 100 variables/features that achieves 95%\n",
    "accuracy in the training dataset. However, when you run it in the test dataset, you only get 60%\n",
    "accuracy. Which of the following options are valid approached to solve this problem?**"
   ]
  },
  {
   "cell_type": "markdown",
   "id": "133ce459",
   "metadata": {},
   "source": [
    "- (a) Reduce the number of input variables/features\n",
    "- (b) Add extra variables/features\n",
    "- (c) Implement cross-validation during the training process\n",
    "- (d) Select another algorithm\n",
    "- (e) (a) and (c)\n",
    "- (f) (a) and (d)\n",
    "- (g) (b) and (c)\n",
    "- (h) (b) and (d)\n",
    "- (i) None of the above"
   ]
  },
  {
   "cell_type": "markdown",
   "id": "d9959164",
   "metadata": {},
   "source": [
    "(E) (A and C) It looks like the model is overfitting to the training data set. Of the options available, I would say that implementing cross validation and reducing the number of input variables/features would be the best approach to solve this problem. Overfitting often happens when the algorithm is too complex, so to make it simpler, we remove some variables (carefully) to reduce noise and hopefully stop the model from overfitting. Implementing cross validation during the training process would allow us to prevent overfitting because it splits our training set into multiple smaller training sets. This allows us to tune our parameters off of our different test sets and get more accurate results."
   ]
  },
  {
   "cell_type": "markdown",
   "id": "dda1e9bf",
   "metadata": {},
   "source": [
    "**Exercise 5: Consider the Real Estate.csv data file posted on Blackboard (under the In-Class 3f assignment\n",
    "link). This file contains information related to 414 houses. The goal is to predict the house price\n",
    "of unit area. In Python, answer the following:**\n"
   ]
  },
  {
   "cell_type": "markdown",
   "id": "ab223665",
   "metadata": {},
   "source": [
    "_(a) (3 points) Using the pandas library, read the csv data file and create a data-frame called\n",
    "house price._"
   ]
  },
  {
   "cell_type": "code",
   "execution_count": 5,
   "id": "7dc79714",
   "metadata": {},
   "outputs": [
    {
     "data": {
      "text/html": [
       "<div>\n",
       "<style scoped>\n",
       "    .dataframe tbody tr th:only-of-type {\n",
       "        vertical-align: middle;\n",
       "    }\n",
       "\n",
       "    .dataframe tbody tr th {\n",
       "        vertical-align: top;\n",
       "    }\n",
       "\n",
       "    .dataframe thead th {\n",
       "        text-align: right;\n",
       "    }\n",
       "</style>\n",
       "<table border=\"1\" class=\"dataframe\">\n",
       "  <thead>\n",
       "    <tr style=\"text-align: right;\">\n",
       "      <th></th>\n",
       "      <th>No</th>\n",
       "      <th>transaction_date</th>\n",
       "      <th>house_age</th>\n",
       "      <th>distance_to_the_nearest_MRT_station</th>\n",
       "      <th>number_of_convenience_stores</th>\n",
       "      <th>latitude</th>\n",
       "      <th>longitude</th>\n",
       "      <th>house_price_of_unit_area</th>\n",
       "    </tr>\n",
       "  </thead>\n",
       "  <tbody>\n",
       "    <tr>\n",
       "      <th>0</th>\n",
       "      <td>1</td>\n",
       "      <td>2012.917</td>\n",
       "      <td>32.0</td>\n",
       "      <td>84.87882</td>\n",
       "      <td>10</td>\n",
       "      <td>24.98298</td>\n",
       "      <td>121.54024</td>\n",
       "      <td>37.9</td>\n",
       "    </tr>\n",
       "    <tr>\n",
       "      <th>1</th>\n",
       "      <td>2</td>\n",
       "      <td>2012.917</td>\n",
       "      <td>19.5</td>\n",
       "      <td>306.59470</td>\n",
       "      <td>9</td>\n",
       "      <td>24.98034</td>\n",
       "      <td>121.53951</td>\n",
       "      <td>42.2</td>\n",
       "    </tr>\n",
       "    <tr>\n",
       "      <th>2</th>\n",
       "      <td>3</td>\n",
       "      <td>2013.583</td>\n",
       "      <td>13.3</td>\n",
       "      <td>561.98450</td>\n",
       "      <td>5</td>\n",
       "      <td>24.98746</td>\n",
       "      <td>121.54391</td>\n",
       "      <td>47.3</td>\n",
       "    </tr>\n",
       "    <tr>\n",
       "      <th>3</th>\n",
       "      <td>4</td>\n",
       "      <td>2013.500</td>\n",
       "      <td>13.3</td>\n",
       "      <td>561.98450</td>\n",
       "      <td>5</td>\n",
       "      <td>24.98746</td>\n",
       "      <td>121.54391</td>\n",
       "      <td>54.8</td>\n",
       "    </tr>\n",
       "    <tr>\n",
       "      <th>4</th>\n",
       "      <td>5</td>\n",
       "      <td>2012.833</td>\n",
       "      <td>5.0</td>\n",
       "      <td>390.56840</td>\n",
       "      <td>5</td>\n",
       "      <td>24.97937</td>\n",
       "      <td>121.54245</td>\n",
       "      <td>43.1</td>\n",
       "    </tr>\n",
       "  </tbody>\n",
       "</table>\n",
       "</div>"
      ],
      "text/plain": [
       "   No  transaction_date  house_age  distance_to_the_nearest_MRT_station  \\\n",
       "0   1          2012.917       32.0                             84.87882   \n",
       "1   2          2012.917       19.5                            306.59470   \n",
       "2   3          2013.583       13.3                            561.98450   \n",
       "3   4          2013.500       13.3                            561.98450   \n",
       "4   5          2012.833        5.0                            390.56840   \n",
       "\n",
       "   number_of_convenience_stores  latitude  longitude  house_price_of_unit_area  \n",
       "0                            10  24.98298  121.54024                      37.9  \n",
       "1                             9  24.98034  121.53951                      42.2  \n",
       "2                             5  24.98746  121.54391                      47.3  \n",
       "3                             5  24.98746  121.54391                      54.8  \n",
       "4                             5  24.97937  121.54245                      43.1  "
      ]
     },
     "execution_count": 5,
     "metadata": {},
     "output_type": "execute_result"
    }
   ],
   "source": [
    "import boto3\n",
    "import pandas as pd\n",
    "import numpy as np\n",
    "\n",
    "from sklearn.model_selection import train_test_split\n",
    "from sklearn.linear_model import LinearRegression\n",
    "\n",
    "## Defining the s3 bucket\n",
    "s3 = boto3.resource('s3')\n",
    "bucket_name = 'craig-shaffer-data-445-bucket'\n",
    "bucket = s3.Bucket(bucket_name)\n",
    "\n",
    "## Defining the file to be read from s3 bucket\n",
    "file_key = 'Real_Estate.csv'\n",
    "\n",
    "bucket_object = bucket.Object(file_key)\n",
    "file_object = bucket_object.get()\n",
    "file_content_stream = file_object.get('Body')\n",
    "\n",
    "## Reading the data file\n",
    "house_price = pd.read_csv(file_content_stream)\n",
    "house_price.head()"
   ]
  },
  {
   "cell_type": "markdown",
   "id": "53baf4cb",
   "metadata": {},
   "source": [
    "_(b) (3 points) Drop the No and transaction date columns._"
   ]
  },
  {
   "cell_type": "code",
   "execution_count": 6,
   "id": "cca9da22",
   "metadata": {},
   "outputs": [
    {
     "data": {
      "text/html": [
       "<div>\n",
       "<style scoped>\n",
       "    .dataframe tbody tr th:only-of-type {\n",
       "        vertical-align: middle;\n",
       "    }\n",
       "\n",
       "    .dataframe tbody tr th {\n",
       "        vertical-align: top;\n",
       "    }\n",
       "\n",
       "    .dataframe thead th {\n",
       "        text-align: right;\n",
       "    }\n",
       "</style>\n",
       "<table border=\"1\" class=\"dataframe\">\n",
       "  <thead>\n",
       "    <tr style=\"text-align: right;\">\n",
       "      <th></th>\n",
       "      <th>house_age</th>\n",
       "      <th>distance_to_the_nearest_MRT_station</th>\n",
       "      <th>number_of_convenience_stores</th>\n",
       "      <th>latitude</th>\n",
       "      <th>longitude</th>\n",
       "      <th>house_price_of_unit_area</th>\n",
       "    </tr>\n",
       "  </thead>\n",
       "  <tbody>\n",
       "    <tr>\n",
       "      <th>0</th>\n",
       "      <td>32.0</td>\n",
       "      <td>84.87882</td>\n",
       "      <td>10</td>\n",
       "      <td>24.98298</td>\n",
       "      <td>121.54024</td>\n",
       "      <td>37.9</td>\n",
       "    </tr>\n",
       "    <tr>\n",
       "      <th>1</th>\n",
       "      <td>19.5</td>\n",
       "      <td>306.59470</td>\n",
       "      <td>9</td>\n",
       "      <td>24.98034</td>\n",
       "      <td>121.53951</td>\n",
       "      <td>42.2</td>\n",
       "    </tr>\n",
       "    <tr>\n",
       "      <th>2</th>\n",
       "      <td>13.3</td>\n",
       "      <td>561.98450</td>\n",
       "      <td>5</td>\n",
       "      <td>24.98746</td>\n",
       "      <td>121.54391</td>\n",
       "      <td>47.3</td>\n",
       "    </tr>\n",
       "    <tr>\n",
       "      <th>3</th>\n",
       "      <td>13.3</td>\n",
       "      <td>561.98450</td>\n",
       "      <td>5</td>\n",
       "      <td>24.98746</td>\n",
       "      <td>121.54391</td>\n",
       "      <td>54.8</td>\n",
       "    </tr>\n",
       "    <tr>\n",
       "      <th>4</th>\n",
       "      <td>5.0</td>\n",
       "      <td>390.56840</td>\n",
       "      <td>5</td>\n",
       "      <td>24.97937</td>\n",
       "      <td>121.54245</td>\n",
       "      <td>43.1</td>\n",
       "    </tr>\n",
       "  </tbody>\n",
       "</table>\n",
       "</div>"
      ],
      "text/plain": [
       "   house_age  distance_to_the_nearest_MRT_station  \\\n",
       "0       32.0                             84.87882   \n",
       "1       19.5                            306.59470   \n",
       "2       13.3                            561.98450   \n",
       "3       13.3                            561.98450   \n",
       "4        5.0                            390.56840   \n",
       "\n",
       "   number_of_convenience_stores  latitude  longitude  house_price_of_unit_area  \n",
       "0                            10  24.98298  121.54024                      37.9  \n",
       "1                             9  24.98034  121.53951                      42.2  \n",
       "2                             5  24.98746  121.54391                      47.3  \n",
       "3                             5  24.98746  121.54391                      54.8  \n",
       "4                             5  24.97937  121.54245                      43.1  "
      ]
     },
     "execution_count": 6,
     "metadata": {},
     "output_type": "execute_result"
    }
   ],
   "source": [
    "## dropping No and transaction date columns\n",
    "house_price = house_price.drop(columns = ['No','transaction_date'],axis=1)\n",
    "house_price.head()"
   ]
  },
  {
   "cell_type": "markdown",
   "id": "eb5a1262",
   "metadata": {},
   "source": [
    "_(c) (4 points) Split the data-frame into two data-frames: train (80%) and test (20%)._"
   ]
  },
  {
   "cell_type": "code",
   "execution_count": 10,
   "id": "30852d77",
   "metadata": {},
   "outputs": [],
   "source": [
    "## defining the input and target\n",
    "X = house_price.drop(columns='house_price_of_unit_area',axis=1)\n",
    "Y = house_price['house_price_of_unit_area']\n",
    "\n",
    "## splitting the data\n",
    "X_train, X_test, Y_train, Y_test = train_test_split(X,Y,test_size=.2)"
   ]
  },
  {
   "cell_type": "markdown",
   "id": "e208e9ae",
   "metadata": {},
   "source": [
    "_(d) (10 points) Using the train data-frame, build a linear regression model in which: house age,\n",
    "distance to the nearest MRT station, number of convenience stores, latitude, and\n",
    "longitude are the input variables, and house price of unit area is the target variable.\n",
    "After the model is built, predict the house price of unit area of a the houses in the test\n",
    "data-frame. Report the MSE._"
   ]
  },
  {
   "cell_type": "code",
   "execution_count": 11,
   "id": "f4ee3933",
   "metadata": {},
   "outputs": [
    {
     "name": "stdout",
     "output_type": "stream",
     "text": [
      "The MSE of model 1 is 81.8773456496947\n"
     ]
    }
   ],
   "source": [
    "X_train_1 = X_train[['house_age','distance_to_the_nearest_MRT_station','number_of_convenience_stores','latitude','longitude']]\n",
    "X_test_1 = X_test[['house_age','distance_to_the_nearest_MRT_station','number_of_convenience_stores','latitude','longitude']]\n",
    "# building linear model\n",
    "lm_md1 = LinearRegression().fit(X_train_1,Y_train)\n",
    "\n",
    "# predict on test\n",
    "lm_md1_pred = lm_md1.predict(X_test_1)\n",
    "lm_md1_pred\n",
    "\n",
    "# compute model mse\n",
    "mse1 = np.mean((Y_test-lm_md1_pred)**2)\n",
    "print(\"The MSE of model 1 is\",mse1)"
   ]
  },
  {
   "cell_type": "markdown",
   "id": "70e2641b",
   "metadata": {},
   "source": [
    "_(e) (10 points) Using the train data-frame, build a linear regression model in which: house age,\n",
    "number of convenience stores, latitude, and longitude are the input variables, and\n",
    "house price of unit area is the target variable. After the model is built, predict the house\n",
    "price of unit area of a the houses in the test data-frame. Report the MSE._\n"
   ]
  },
  {
   "cell_type": "code",
   "execution_count": 12,
   "id": "c28e4047",
   "metadata": {},
   "outputs": [
    {
     "name": "stdout",
     "output_type": "stream",
     "text": [
      "The MSE of model 2 is 92.86145565795476\n"
     ]
    }
   ],
   "source": [
    "X_train_2 = X_train[['house_age','number_of_convenience_stores','latitude','longitude']]\n",
    "X_test_2 = X_test[['house_age','number_of_convenience_stores','latitude','longitude']]\n",
    "# building linear model\n",
    "lm_md2 = LinearRegression().fit(X_train_2,Y_train)\n",
    "\n",
    "# predict on test\n",
    "lm_md2_pred = lm_md2.predict(X_test_2)\n",
    "lm_md2_pred\n",
    "\n",
    "# compute model mse\n",
    "mse2 = np.mean((Y_test-lm_md2_pred)**2)\n",
    "print(\"The MSE of model 2 is\",mse2)"
   ]
  },
  {
   "cell_type": "markdown",
   "id": "34daf411",
   "metadata": {},
   "source": [
    "_(f) (5 points) Using the results from parts (d) and (e), what model would use? Explain._"
   ]
  },
  {
   "cell_type": "markdown",
   "id": "9ba0e791",
   "metadata": {},
   "source": [
    " Using the results from parts (d) and (e), I would use the model from part (d) because the MSE is lower. We want the lower MSE because it means our predictions are closer to the actual values on average."
   ]
  },
  {
   "cell_type": "markdown",
   "id": "51d8dd51",
   "metadata": {},
   "source": [
    "_(g) (15 points) Repeat steps (c) to (e) 100 times, and visualize the MSE of each of the models\n",
    "at each iteration. Which of the two model has better performance on the test datasets? Explain._"
   ]
  },
  {
   "cell_type": "code",
   "execution_count": 30,
   "id": "5db0fd18",
   "metadata": {},
   "outputs": [
    {
     "data": {
      "image/png": "[encoded data removed]",
      "text/plain": [
       "<Figure size 432x288 with 1 Axes>"
      ]
     },
     "metadata": {
      "needs_background": "light"
     },
     "output_type": "display_data"
    }
   ],
   "source": [
    "## defining the input and target\n",
    "X = house_price.drop(columns='house_price_of_unit_area',axis=1)\n",
    "Y = house_price['house_price_of_unit_area']\n",
    "\n",
    "## store MSEs from both models\n",
    "md1_results = []\n",
    "md2_results = []\n",
    "\n",
    "## 100 iterations of building both models\n",
    "for i in range (0,100):\n",
    "    ## split the data\n",
    "    X_train, X_test, Y_train, Y_test = train_test_split(X,Y,test_size=.2)\n",
    "    \n",
    "    ## build model 1\n",
    "    X_train_1 = X_train[['house_age','distance_to_the_nearest_MRT_station','number_of_convenience_stores','latitude','longitude']]\n",
    "    X_test_1 = X_test[['house_age','distance_to_the_nearest_MRT_station','number_of_convenience_stores','latitude','longitude']]\n",
    "    # building linear model\n",
    "    lm_md1 = LinearRegression().fit(X_train_1,Y_train)\n",
    "    # predict on test\n",
    "    lm_md1_pred = lm_md1.predict(X_test_1)\n",
    "    # compute model mse\n",
    "    mse1 = np.mean((Y_test-lm_md1_pred)**2)\n",
    "    md1_results.append(mse1)\n",
    "    \n",
    "    ## build model 2\n",
    "    X_train_2 = X_train[['house_age','number_of_convenience_stores','latitude','longitude']]\n",
    "    X_test_2 = X_test[['house_age','number_of_convenience_stores','latitude','longitude']]\n",
    "    # building linear model\n",
    "    lm_md2 = LinearRegression().fit(X_train_2,Y_train)\n",
    "    # predict on test\n",
    "    lm_md2_pred = lm_md2.predict(X_test_2)\n",
    "    # compute model mse\n",
    "    mse2 = np.mean((Y_test-lm_md2_pred)**2)\n",
    "    md2_results.append(mse2)\n",
    "\n",
    "# visualize MSE of each iteration\n",
    "import matplotlib.pyplot as plt\n",
    "\n",
    "index=np.linspace(0,99,num=100)\n",
    "plt.plot(index,md1_results, label = 'Model 1')\n",
    "plt.plot(index,md2_results, label = 'Model 2')\n",
    "plt.xlabel('Index')\n",
    "plt.ylabel('MSE')\n",
    "plt.legend()\n",
    "plt.show()\n",
    "    "
   ]
  },
  {
   "cell_type": "markdown",
   "id": "dd6d91c4",
   "metadata": {},
   "source": [
    "Model 1 (the model from part (d)) clearly has the better performance on the test data sets. Apart from a few iterations, Model 1's MSE appears to be consistently lower than Model 2's MSE based on the visualization. Because Model 1's MSE appears to be consistently lower, it had better performance on the test data sets."
   ]
  },
  {
   "cell_type": "code",
   "execution_count": null,
   "id": "514cffbf",
   "metadata": {},
   "outputs": [],
   "source": []
  }
 ],
 "metadata": {
  "kernelspec": {
   "display_name": "conda_python3",
   "language": "python",
   "name": "conda_python3"
  },
  "language_info": {
   "codemirror_mode": {
    "name": "ipython",
    "version": 3
   },
   "file_extension": ".py",
   "mimetype": "text/x-python",
   "name": "python",
   "nbconvert_exporter": "python",
   "pygments_lexer": "ipython3",
   "version": "3.8.12"
  }
 },
 "nbformat": 4,
 "nbformat_minor": 5
}
