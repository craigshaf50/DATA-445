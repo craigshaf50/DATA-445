{
 "cells": [
  {
   "cell_type": "markdown",
   "id": "4f91d4cf",
   "metadata": {},
   "source": [
    "**Exercise 1: (5 points) You are given a dataset having more variables than observations. Assuming that\n",
    "there seems to be a linear relationship between the target variable and the input variables in the\n",
    "dataset, why ordinary least squares (OLS) is a bad option to estimate the model parameters?\n",
    "Which technique would be best to use? Why?**"
   ]
  },
  {
   "cell_type": "markdown",
   "id": "c27a146f",
   "metadata": {},
   "source": [
    "Since the number of input variables is larger than the number of observations in the dataset, there is no longer a unique least squares coefficient and the variance is infinite. So the least squares method cannot be used at all. Also, least squares is very unlikely to yield any coefficients of that are exactly 0, which doesn't allow us to use it as a variable selection procedure. I would use lasso in this situation in the hopes of eliminating unnecessary variables that add complexity and aren't significant when creating the actual models."
   ]
  },
  {
   "cell_type": "markdown",
   "id": "436e805b",
   "metadata": {},
   "source": [
    "**Exercise 2: (5 points) For Ridge regression, if the regularization parameter, λ, is equal to 0, what are the\n",
    "implications?**"
   ]
  },
  {
   "cell_type": "markdown",
   "id": "ccdcd657",
   "metadata": {},
   "source": [
    "(d) All of the above. Because when λ = 0 the penalty term has no effect and ridge regression will produce the least squares estimates. So  regularization isn't technically used at all. Therefore, since it doesn't change the model, it doesn't really account for overfitting either."
   ]
  },
  {
   "cell_type": "markdown",
   "id": "815bbf02",
   "metadata": {},
   "source": [
    "**Exercise 3: (5 points) For Lasso Regression, if the regularization parameter, λ, is very high, which options are\n",
    "true? Select all that apply.**\n"
   ]
  },
  {
   "cell_type": "markdown",
   "id": "d9007806",
   "metadata": {},
   "source": [
    "(f) (a) and (b). It can be used to select important features of a dataset and shrinks the coefficients of less important features to exactly 0."
   ]
  },
  {
   "cell_type": "markdown",
   "id": "2d2114d6",
   "metadata": {},
   "source": [
    "**Exercise 4:\n",
    "An important theoretical result of statistics and Machine Learning is the fact that model’s generalization error can be expressed as the sum of two very different errors:**\n",
    "- **Bias: This part of the generalization error is due to wrong assumptions, such as assuming that the data is linear when it is actually quadratic. A high-bias model is most likely to under-fit the training data.**\n",
    "- **Variance: This part is due to the model’s excessive sensitivity to small variations in the training data. A model with many degrees of freedom (such as a high-degree polynomial model) is likely to have high variance and thus overfit the training data.**\n",
    "\n",
    "**(5 points) Suppose you are using Ridge Regression and you notice that the training error and\n",
    "the validation error are almost equal and fairly high. Would you say that the model suffers from\n",
    "high bias or high variance? Should you increase the regularization parameter, λ, or reduce it?**"
   ]
  },
  {
   "cell_type": "markdown",
   "id": "9e1dc0b5",
   "metadata": {},
   "source": [
    "When the training error and validation error are high and close to eachother that means your model is underfitting (high bias). To fix it, you should reduce the regularization parameter λ."
   ]
  },
  {
   "cell_type": "markdown",
   "id": "d58b40b9",
   "metadata": {},
   "source": [
    "**Exercise 5: Consider the CarPrice Assignment.csv data file. This data is public available on the Kaggle\n",
    "website, and has information on cars (characteristics related to car dimensions, engine and more).\n",
    "The goal is to use car information to predict the price of the car. In Python, answer the following:**"
   ]
  },
  {
   "cell_type": "markdown",
   "id": "1b34604c",
   "metadata": {},
   "source": [
    "(a) (5 points) Load the data file to you S3 bucket. Using the pandas library, read the csv data file and create a data-frame called car price."
   ]
  },
  {
   "cell_type": "code",
   "execution_count": 1,
   "id": "a1d6b7ad",
   "metadata": {},
   "outputs": [
    {
     "data": {
      "text/html": [
       "<div>\n",
       "<style scoped>\n",
       "    .dataframe tbody tr th:only-of-type {\n",
       "        vertical-align: middle;\n",
       "    }\n",
       "\n",
       "    .dataframe tbody tr th {\n",
       "        vertical-align: top;\n",
       "    }\n",
       "\n",
       "    .dataframe thead th {\n",
       "        text-align: right;\n",
       "    }\n",
       "</style>\n",
       "<table border=\"1\" class=\"dataframe\">\n",
       "  <thead>\n",
       "    <tr style=\"text-align: right;\">\n",
       "      <th></th>\n",
       "      <th>car_ID</th>\n",
       "      <th>symboling</th>\n",
       "      <th>CarName</th>\n",
       "      <th>fueltype</th>\n",
       "      <th>aspiration</th>\n",
       "      <th>doornumber</th>\n",
       "      <th>carbody</th>\n",
       "      <th>drivewheel</th>\n",
       "      <th>enginelocation</th>\n",
       "      <th>wheelbase</th>\n",
       "      <th>carlength</th>\n",
       "      <th>carwidth</th>\n",
       "      <th>carheight</th>\n",
       "      <th>curbweight</th>\n",
       "      <th>enginetype</th>\n",
       "      <th>cylindernumber</th>\n",
       "      <th>enginesize</th>\n",
       "      <th>fuelsystem</th>\n",
       "      <th>boreratio</th>\n",
       "      <th>stroke</th>\n",
       "      <th>compressionratio</th>\n",
       "      <th>horsepower</th>\n",
       "      <th>peakrpm</th>\n",
       "      <th>citympg</th>\n",
       "      <th>highwaympg</th>\n",
       "      <th>price</th>\n",
       "    </tr>\n",
       "  </thead>\n",
       "  <tbody>\n",
       "    <tr>\n",
       "      <th>0</th>\n",
       "      <td>1</td>\n",
       "      <td>3</td>\n",
       "      <td>alfa-romero giulia</td>\n",
       "      <td>gas</td>\n",
       "      <td>std</td>\n",
       "      <td>two</td>\n",
       "      <td>convertible</td>\n",
       "      <td>rwd</td>\n",
       "      <td>front</td>\n",
       "      <td>88.6</td>\n",
       "      <td>168.8</td>\n",
       "      <td>64.1</td>\n",
       "      <td>48.8</td>\n",
       "      <td>2548</td>\n",
       "      <td>dohc</td>\n",
       "      <td>four</td>\n",
       "      <td>130</td>\n",
       "      <td>mpfi</td>\n",
       "      <td>3.47</td>\n",
       "      <td>2.68</td>\n",
       "      <td>9.0</td>\n",
       "      <td>111</td>\n",
       "      <td>5000</td>\n",
       "      <td>21</td>\n",
       "      <td>27</td>\n",
       "      <td>13495.0</td>\n",
       "    </tr>\n",
       "    <tr>\n",
       "      <th>1</th>\n",
       "      <td>2</td>\n",
       "      <td>3</td>\n",
       "      <td>alfa-romero stelvio</td>\n",
       "      <td>gas</td>\n",
       "      <td>std</td>\n",
       "      <td>two</td>\n",
       "      <td>convertible</td>\n",
       "      <td>rwd</td>\n",
       "      <td>front</td>\n",
       "      <td>88.6</td>\n",
       "      <td>168.8</td>\n",
       "      <td>64.1</td>\n",
       "      <td>48.8</td>\n",
       "      <td>2548</td>\n",
       "      <td>dohc</td>\n",
       "      <td>four</td>\n",
       "      <td>130</td>\n",
       "      <td>mpfi</td>\n",
       "      <td>3.47</td>\n",
       "      <td>2.68</td>\n",
       "      <td>9.0</td>\n",
       "      <td>111</td>\n",
       "      <td>5000</td>\n",
       "      <td>21</td>\n",
       "      <td>27</td>\n",
       "      <td>16500.0</td>\n",
       "    </tr>\n",
       "    <tr>\n",
       "      <th>2</th>\n",
       "      <td>3</td>\n",
       "      <td>1</td>\n",
       "      <td>alfa-romero Quadrifoglio</td>\n",
       "      <td>gas</td>\n",
       "      <td>std</td>\n",
       "      <td>two</td>\n",
       "      <td>hatchback</td>\n",
       "      <td>rwd</td>\n",
       "      <td>front</td>\n",
       "      <td>94.5</td>\n",
       "      <td>171.2</td>\n",
       "      <td>65.5</td>\n",
       "      <td>52.4</td>\n",
       "      <td>2823</td>\n",
       "      <td>ohcv</td>\n",
       "      <td>six</td>\n",
       "      <td>152</td>\n",
       "      <td>mpfi</td>\n",
       "      <td>2.68</td>\n",
       "      <td>3.47</td>\n",
       "      <td>9.0</td>\n",
       "      <td>154</td>\n",
       "      <td>5000</td>\n",
       "      <td>19</td>\n",
       "      <td>26</td>\n",
       "      <td>16500.0</td>\n",
       "    </tr>\n",
       "    <tr>\n",
       "      <th>3</th>\n",
       "      <td>4</td>\n",
       "      <td>2</td>\n",
       "      <td>audi 100 ls</td>\n",
       "      <td>gas</td>\n",
       "      <td>std</td>\n",
       "      <td>four</td>\n",
       "      <td>sedan</td>\n",
       "      <td>fwd</td>\n",
       "      <td>front</td>\n",
       "      <td>99.8</td>\n",
       "      <td>176.6</td>\n",
       "      <td>66.2</td>\n",
       "      <td>54.3</td>\n",
       "      <td>2337</td>\n",
       "      <td>ohc</td>\n",
       "      <td>four</td>\n",
       "      <td>109</td>\n",
       "      <td>mpfi</td>\n",
       "      <td>3.19</td>\n",
       "      <td>3.40</td>\n",
       "      <td>10.0</td>\n",
       "      <td>102</td>\n",
       "      <td>5500</td>\n",
       "      <td>24</td>\n",
       "      <td>30</td>\n",
       "      <td>13950.0</td>\n",
       "    </tr>\n",
       "    <tr>\n",
       "      <th>4</th>\n",
       "      <td>5</td>\n",
       "      <td>2</td>\n",
       "      <td>audi 100ls</td>\n",
       "      <td>gas</td>\n",
       "      <td>std</td>\n",
       "      <td>four</td>\n",
       "      <td>sedan</td>\n",
       "      <td>4wd</td>\n",
       "      <td>front</td>\n",
       "      <td>99.4</td>\n",
       "      <td>176.6</td>\n",
       "      <td>66.4</td>\n",
       "      <td>54.3</td>\n",
       "      <td>2824</td>\n",
       "      <td>ohc</td>\n",
       "      <td>five</td>\n",
       "      <td>136</td>\n",
       "      <td>mpfi</td>\n",
       "      <td>3.19</td>\n",
       "      <td>3.40</td>\n",
       "      <td>8.0</td>\n",
       "      <td>115</td>\n",
       "      <td>5500</td>\n",
       "      <td>18</td>\n",
       "      <td>22</td>\n",
       "      <td>17450.0</td>\n",
       "    </tr>\n",
       "  </tbody>\n",
       "</table>\n",
       "</div>"
      ],
      "text/plain": [
       "   car_ID  symboling                   CarName fueltype aspiration doornumber  \\\n",
       "0       1          3        alfa-romero giulia      gas        std        two   \n",
       "1       2          3       alfa-romero stelvio      gas        std        two   \n",
       "2       3          1  alfa-romero Quadrifoglio      gas        std        two   \n",
       "3       4          2               audi 100 ls      gas        std       four   \n",
       "4       5          2                audi 100ls      gas        std       four   \n",
       "\n",
       "       carbody drivewheel enginelocation  wheelbase  carlength  carwidth  \\\n",
       "0  convertible        rwd          front       88.6      168.8      64.1   \n",
       "1  convertible        rwd          front       88.6      168.8      64.1   \n",
       "2    hatchback        rwd          front       94.5      171.2      65.5   \n",
       "3        sedan        fwd          front       99.8      176.6      66.2   \n",
       "4        sedan        4wd          front       99.4      176.6      66.4   \n",
       "\n",
       "   carheight  curbweight enginetype cylindernumber  enginesize fuelsystem  \\\n",
       "0       48.8        2548       dohc           four         130       mpfi   \n",
       "1       48.8        2548       dohc           four         130       mpfi   \n",
       "2       52.4        2823       ohcv            six         152       mpfi   \n",
       "3       54.3        2337        ohc           four         109       mpfi   \n",
       "4       54.3        2824        ohc           five         136       mpfi   \n",
       "\n",
       "   boreratio  stroke  compressionratio  horsepower  peakrpm  citympg  \\\n",
       "0       3.47    2.68               9.0         111     5000       21   \n",
       "1       3.47    2.68               9.0         111     5000       21   \n",
       "2       2.68    3.47               9.0         154     5000       19   \n",
       "3       3.19    3.40              10.0         102     5500       24   \n",
       "4       3.19    3.40               8.0         115     5500       18   \n",
       "\n",
       "   highwaympg    price  \n",
       "0          27  13495.0  \n",
       "1          27  16500.0  \n",
       "2          26  16500.0  \n",
       "3          30  13950.0  \n",
       "4          22  17450.0  "
      ]
     },
     "execution_count": 1,
     "metadata": {},
     "output_type": "execute_result"
    }
   ],
   "source": [
    "import boto3\n",
    "import pandas as pd; pd.set_option('display.max_column', 100)\n",
    "import numpy as np\n",
    "\n",
    "from sklearn.linear_model import LinearRegression, Ridge, RidgeCV, Lasso, LassoCV\n",
    "from sklearn.model_selection import train_test_split\n",
    "\n",
    "\n",
    "## Defining the s3 bucket\n",
    "s3 = boto3.resource('s3')\n",
    "bucket_name = 'craig-shaffer-data-445-bucket'\n",
    "bucket = s3.Bucket(bucket_name)\n",
    "\n",
    "## Defining the file to be read from s3 bucket\n",
    "file_key = 'CarPrice_Assignment.csv'\n",
    "\n",
    "bucket_object = bucket.Object(file_key)\n",
    "file_object = bucket_object.get()\n",
    "file_content_stream = file_object.get('Body')\n",
    "\n",
    "# reading the datafile\n",
    "car_price = pd.read_csv(file_content_stream)\n",
    "car_price.head()"
   ]
  },
  {
   "cell_type": "markdown",
   "id": "f3976190",
   "metadata": {},
   "source": [
    "(b) (15 points) Using the wheelbase, enginesize, compressionratio, horsepower, peakrpm, citympg, and highwaympg as the predictor variables, and price is the target variable. Do the following:\n",
    "\n",
    "- Split the data into train (80%) and test (20%)\n",
    "- Using the train dataset: \n",
    " - Estimate the optimal lambda using default values for lambda in scikit-learn and 5-folds. Make sure to normalize the data (normalize = True).\n",
    " - Perform LASSO as a variable selector (using the optimal lambda from previous step (i)). Make sure to normalize the data (normalize = True).\n",
    "\n",
    "Repeat steps (1) and (2) 1000 times. Store the estimated model coefficients of each iteration\n",
    "in a data-frame. Remove the variables, whose estimated coefficients is 0 more than 500\n",
    "times, from the training and testing datasets.\n"
   ]
  },
  {
   "cell_type": "code",
   "execution_count": 5,
   "id": "33485f77",
   "metadata": {},
   "outputs": [],
   "source": [
    "#stopping warnings for \n",
    "import warnings\n",
    "warnings.simplefilter(action= 'ignore', category=FutureWarning)"
   ]
  },
  {
   "cell_type": "code",
   "execution_count": 7,
   "id": "1cc1d38b",
   "metadata": {},
   "outputs": [
    {
     "data": {
      "text/html": [
       "<div>\n",
       "<style scoped>\n",
       "    .dataframe tbody tr th:only-of-type {\n",
       "        vertical-align: middle;\n",
       "    }\n",
       "\n",
       "    .dataframe tbody tr th {\n",
       "        vertical-align: top;\n",
       "    }\n",
       "\n",
       "    .dataframe thead th {\n",
       "        text-align: right;\n",
       "    }\n",
       "</style>\n",
       "<table border=\"1\" class=\"dataframe\">\n",
       "  <thead>\n",
       "    <tr style=\"text-align: right;\">\n",
       "      <th></th>\n",
       "      <th>0</th>\n",
       "      <th>1</th>\n",
       "      <th>2</th>\n",
       "      <th>3</th>\n",
       "      <th>4</th>\n",
       "      <th>5</th>\n",
       "      <th>6</th>\n",
       "    </tr>\n",
       "  </thead>\n",
       "  <tbody>\n",
       "    <tr>\n",
       "      <th>0</th>\n",
       "      <td>223.165194</td>\n",
       "      <td>103.614078</td>\n",
       "      <td>304.414921</td>\n",
       "      <td>47.010222</td>\n",
       "      <td>2.004323</td>\n",
       "      <td>-220.500569</td>\n",
       "      <td>72.397113</td>\n",
       "    </tr>\n",
       "    <tr>\n",
       "      <th>1</th>\n",
       "      <td>201.389639</td>\n",
       "      <td>113.825106</td>\n",
       "      <td>323.300015</td>\n",
       "      <td>33.561209</td>\n",
       "      <td>1.951058</td>\n",
       "      <td>-170.015359</td>\n",
       "      <td>-0.000000</td>\n",
       "    </tr>\n",
       "    <tr>\n",
       "      <th>2</th>\n",
       "      <td>159.111488</td>\n",
       "      <td>121.836182</td>\n",
       "      <td>345.312057</td>\n",
       "      <td>54.329357</td>\n",
       "      <td>2.834021</td>\n",
       "      <td>-77.549650</td>\n",
       "      <td>-0.000000</td>\n",
       "    </tr>\n",
       "    <tr>\n",
       "      <th>3</th>\n",
       "      <td>192.430545</td>\n",
       "      <td>114.456982</td>\n",
       "      <td>264.725505</td>\n",
       "      <td>45.118464</td>\n",
       "      <td>1.653040</td>\n",
       "      <td>-93.741814</td>\n",
       "      <td>-0.000000</td>\n",
       "    </tr>\n",
       "    <tr>\n",
       "      <th>4</th>\n",
       "      <td>175.665494</td>\n",
       "      <td>111.820618</td>\n",
       "      <td>321.911830</td>\n",
       "      <td>54.230756</td>\n",
       "      <td>1.964926</td>\n",
       "      <td>-77.485174</td>\n",
       "      <td>-0.000000</td>\n",
       "    </tr>\n",
       "    <tr>\n",
       "      <th>...</th>\n",
       "      <td>...</td>\n",
       "      <td>...</td>\n",
       "      <td>...</td>\n",
       "      <td>...</td>\n",
       "      <td>...</td>\n",
       "      <td>...</td>\n",
       "      <td>...</td>\n",
       "    </tr>\n",
       "    <tr>\n",
       "      <th>995</th>\n",
       "      <td>186.004969</td>\n",
       "      <td>103.929205</td>\n",
       "      <td>370.892198</td>\n",
       "      <td>48.426278</td>\n",
       "      <td>2.195520</td>\n",
       "      <td>-127.772405</td>\n",
       "      <td>-0.000000</td>\n",
       "    </tr>\n",
       "    <tr>\n",
       "      <th>996</th>\n",
       "      <td>146.917755</td>\n",
       "      <td>111.574212</td>\n",
       "      <td>297.133158</td>\n",
       "      <td>49.730411</td>\n",
       "      <td>1.880853</td>\n",
       "      <td>-95.656910</td>\n",
       "      <td>-1.383831</td>\n",
       "    </tr>\n",
       "    <tr>\n",
       "      <th>997</th>\n",
       "      <td>231.706283</td>\n",
       "      <td>94.191458</td>\n",
       "      <td>276.908226</td>\n",
       "      <td>55.459976</td>\n",
       "      <td>1.681358</td>\n",
       "      <td>-109.400307</td>\n",
       "      <td>-0.000000</td>\n",
       "    </tr>\n",
       "    <tr>\n",
       "      <th>998</th>\n",
       "      <td>153.982471</td>\n",
       "      <td>111.699259</td>\n",
       "      <td>299.222390</td>\n",
       "      <td>42.932017</td>\n",
       "      <td>1.880002</td>\n",
       "      <td>-92.961329</td>\n",
       "      <td>-14.183885</td>\n",
       "    </tr>\n",
       "    <tr>\n",
       "      <th>999</th>\n",
       "      <td>165.029699</td>\n",
       "      <td>106.134955</td>\n",
       "      <td>325.113385</td>\n",
       "      <td>50.795444</td>\n",
       "      <td>2.041308</td>\n",
       "      <td>-86.521764</td>\n",
       "      <td>-0.000000</td>\n",
       "    </tr>\n",
       "  </tbody>\n",
       "</table>\n",
       "<p>1000 rows × 7 columns</p>\n",
       "</div>"
      ],
      "text/plain": [
       "              0           1           2          3         4           5  \\\n",
       "0    223.165194  103.614078  304.414921  47.010222  2.004323 -220.500569   \n",
       "1    201.389639  113.825106  323.300015  33.561209  1.951058 -170.015359   \n",
       "2    159.111488  121.836182  345.312057  54.329357  2.834021  -77.549650   \n",
       "3    192.430545  114.456982  264.725505  45.118464  1.653040  -93.741814   \n",
       "4    175.665494  111.820618  321.911830  54.230756  1.964926  -77.485174   \n",
       "..          ...         ...         ...        ...       ...         ...   \n",
       "995  186.004969  103.929205  370.892198  48.426278  2.195520 -127.772405   \n",
       "996  146.917755  111.574212  297.133158  49.730411  1.880853  -95.656910   \n",
       "997  231.706283   94.191458  276.908226  55.459976  1.681358 -109.400307   \n",
       "998  153.982471  111.699259  299.222390  42.932017  1.880002  -92.961329   \n",
       "999  165.029699  106.134955  325.113385  50.795444  2.041308  -86.521764   \n",
       "\n",
       "             6  \n",
       "0    72.397113  \n",
       "1    -0.000000  \n",
       "2    -0.000000  \n",
       "3    -0.000000  \n",
       "4    -0.000000  \n",
       "..         ...  \n",
       "995  -0.000000  \n",
       "996  -1.383831  \n",
       "997  -0.000000  \n",
       "998 -14.183885  \n",
       "999  -0.000000  \n",
       "\n",
       "[1000 rows x 7 columns]"
      ]
     },
     "execution_count": 7,
     "metadata": {},
     "output_type": "execute_result"
    }
   ],
   "source": [
    "# Defining input and target variables\n",
    "x= car_price[['wheelbase','enginesize','compressionratio','horsepower','peakrpm','citympg','highwaympg']]\n",
    "y= car_price['price']\n",
    "\n",
    "#list to store coefficients\n",
    "coef = list()\n",
    "\n",
    "#for loop to estimate optimal lambda\n",
    "for i in range(0,1000):\n",
    "    #split into train and test\n",
    "    x_train,x_test,y_train,y_test = train_test_split(x,y,test_size=0.2)\n",
    "    \n",
    "    #extracting best lambda with lasso cross-validation\n",
    "    lasso_cv = LassoCV(normalize = True, cv = 5).fit(x_train, y_train)\n",
    "    \n",
    "    #building lasso\n",
    "    lasso_md = Lasso(alpha = lasso_cv.alpha_, normalize = True).fit(x_train,y_train)\n",
    "    \n",
    "    #storing estimated coefficients\n",
    "    coef.append(lasso_md.coef_)\n",
    "\n",
    "#turning the list to dataframe\n",
    "coef_data = pd.DataFrame(coef)  \n",
    "coef_data"
   ]
  },
  {
   "cell_type": "code",
   "execution_count": 10,
   "id": "eee5b183",
   "metadata": {},
   "outputs": [
    {
     "data": {
      "text/plain": [
       "0      0\n",
       "1      0\n",
       "2      1\n",
       "3      0\n",
       "4      1\n",
       "5     11\n",
       "6    730\n",
       "dtype: int64"
      ]
     },
     "execution_count": 10,
     "metadata": {},
     "output_type": "execute_result"
    }
   ],
   "source": [
    "zeros = (coef_data ==0).sum()\n",
    "zeros"
   ]
  },
  {
   "cell_type": "markdown",
   "id": "2bd22fcc",
   "metadata": {},
   "source": [
    "We should drop highwaympg (6) because it has 730 coefficients that equal zero"
   ]
  },
  {
   "cell_type": "markdown",
   "id": "a189d8d3",
   "metadata": {},
   "source": [
    "(c) (5 points) Split the data into train (80%) and test (20%). Then, normalize the inputs variables of the train and test datasets using the L2 normalization. That is, for each input variable subtract the mean of that variable, then divide by the L2-norm of that variable.\n"
   ]
  },
  {
   "cell_type": "code",
   "execution_count": 11,
   "id": "798163a5",
   "metadata": {},
   "outputs": [],
   "source": [
    "#Dropping highwaympg\n",
    "x_train = x_train.drop(columns = ['highwaympg'], axis=1)\n",
    "x_test = x_test.drop(columns = ['highwaympg'], axis=1)\n",
    "\n",
    "#split into train and test\n",
    "x_train,x_test,y_train,y_test = train_test_split(x, y, test_size= 0.2)\n",
    "\n",
    "#defining l2 normalization and applying it to test and train\n",
    "def l2_normalization(x):\n",
    "    x_mean = np.mean(x)\n",
    "    l2 = np.sqrt(sum(x**2))\n",
    "    return (x - x_mean) / l2\n",
    "\n",
    "x_train = x_train.apply(l2_normalization, axis=1)\n",
    "x_test = x_test.apply(l2_normalization, axis=1)"
   ]
  },
  {
   "cell_type": "markdown",
   "id": "93cf1347",
   "metadata": {},
   "source": [
    "(d) (5 points) Using the train dataset, build a linear regression model. After that, use this model to predict on the test dataset. Report the MSE of this model.\n"
   ]
  },
  {
   "cell_type": "code",
   "execution_count": 12,
   "id": "9005e82a",
   "metadata": {},
   "outputs": [
    {
     "name": "stdout",
     "output_type": "stream",
     "text": [
      "the mse of the model is 8667662.164883392\n"
     ]
    }
   ],
   "source": [
    "#linear regression\n",
    "lm_md = LinearRegression().fit(x_train,y_train)\n",
    "\n",
    "#predicting on test\n",
    "lm_pred = lm_md.predict(x_test)\n",
    "\n",
    "#computing mse of the lm model\n",
    "mse1 = np.mean(np.power(y_test-lm_pred,2))\n",
    "print('the mse of the model is',mse1)"
   ]
  },
  {
   "cell_type": "markdown",
   "id": "bc20d7a9",
   "metadata": {},
   "source": [
    "(e) (10 points) Using the train dataset, build a Ridge regression model as follows:\n",
    "- Using the train dataset, estimate the optimal lambda from the following set [0.001, 0.01, 0.1, 1, 10, 100] and using 5-folds.\n",
    "- Repeat (i) 100, store the optimal lambda of each iteration.\n",
    "\n",
    "Using the most common lambda of the 100 optimal lambdas and the train dataset, build a Ridge regression model. After that, use this model to predict on the test dataset. Report the MSE of this model."
   ]
  },
  {
   "cell_type": "code",
   "execution_count": 15,
   "id": "86cd858c",
   "metadata": {},
   "outputs": [
    {
     "name": "stdout",
     "output_type": "stream",
     "text": [
      "the most common lambda is 0.001\n"
     ]
    }
   ],
   "source": [
    "ridge = list()\n",
    "for k in range(0,100):\n",
    "    #ridge regression\n",
    "    ridge_cv = RidgeCV(alphas = [0.001,0.01,0.1,1,10], cv = 5).fit(x_train,y_train)\n",
    "\n",
    "    #extract lambda\n",
    "    cv_lambda = ridge_cv.alpha_\n",
    "    \n",
    "    #storing lambdas\n",
    "    ridge.append(cv_lambda)\n",
    "#find most common/optimal lambda\n",
    "import statistics as st\n",
    "op_lambda=st.mode(ridge)\n",
    "print('the most common lambda is',op_lambda)\n"
   ]
  },
  {
   "cell_type": "code",
   "execution_count": 21,
   "id": "5e6d3e7b",
   "metadata": {},
   "outputs": [
    {
     "name": "stdout",
     "output_type": "stream",
     "text": [
      "the mse of the ridge model is  8860780.161636842\n"
     ]
    }
   ],
   "source": [
    "#build the ridge regression model\n",
    "ridge_md = Ridge(alpha = op_lambda).fit(x_train,y_train)\n",
    "\n",
    "#predicting on test\n",
    "ridge_pred = ridge_md.predict(x_test)\n",
    "\n",
    "#computing the mse of the ridge regregression model\n",
    "mse2 = np.mean(np.power(y_test-ridge_pred,2))\n",
    "print('the mse of the ridge model is ',mse2)"
   ]
  },
  {
   "cell_type": "markdown",
   "id": "88afe04a",
   "metadata": {},
   "source": [
    "(f) (5 points) Using the results from parts (d) and (e), what model would you use to predict car prices? Explain."
   ]
  },
  {
   "cell_type": "code",
   "execution_count": 22,
   "id": "e9729c7f",
   "metadata": {},
   "outputs": [
    {
     "name": "stdout",
     "output_type": "stream",
     "text": [
      "the MSE of the linear regression model is: 8667662.164883392\n",
      "the MSE of the ridge regression model is: 8860780.161636842\n"
     ]
    }
   ],
   "source": [
    "print('the MSE of the linear regression model is:', mse1)\n",
    "print('the MSE of the ridge regression model is:', mse2)"
   ]
  },
  {
   "cell_type": "markdown",
   "id": "cd9f4f8f",
   "metadata": {},
   "source": [
    "Based on the results from part (d) and (e), I would use the linear regression model because the mse for it was lower than the mse for ridge regression model."
   ]
  },
  {
   "cell_type": "code",
   "execution_count": null,
   "id": "32141d24",
   "metadata": {},
   "outputs": [],
   "source": []
  }
 ],
 "metadata": {
  "kernelspec": {
   "display_name": "conda_python3",
   "language": "python",
   "name": "conda_python3"
  },
  "language_info": {
   "codemirror_mode": {
    "name": "ipython",
    "version": 3
   },
   "file_extension": ".py",
   "mimetype": "text/x-python",
   "name": "python",
   "nbconvert_exporter": "python",
   "pygments_lexer": "ipython3",
   "version": "3.8.12"
  }
 },
 "nbformat": 4,
 "nbformat_minor": 5
}
