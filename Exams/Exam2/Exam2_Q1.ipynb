{
 "cells": [
  {
   "cell_type": "markdown",
   "id": "096ddda9",
   "metadata": {},
   "source": [
    "**1. Consider the weather.csv data file. This file contains weather data recorded in one minute interval from weather station located in San Diego, California. The weather station is equipped with sensors that capture weather-related measurements such as air temperature, air pressure, and relative humidity. Data was collected for a period of three years, from September 2011 to September 2014, to ensure that sufficient data for different seasons and weather conditions is captured. Each row in weather.csv contains weather data captured for a one-minute interval. In Python, answer the following:**"
   ]
  },
  {
   "cell_type": "markdown",
   "id": "90e55c6c",
   "metadata": {},
   "source": [
    "**(a) (5 points) Using the pandas library, read the csv data file from your S3 bucket and create a data-frame called weather. Select data up to October 31, 2011. After that, remove any observation with missing values.**"
   ]
  },
  {
   "cell_type": "code",
   "execution_count": null,
   "id": "f32a0f0c",
   "metadata": {},
   "outputs": [],
   "source": []
  },
  {
   "cell_type": "markdown",
   "id": "3bb959ea",
   "metadata": {},
   "source": [
    "**(b) (8 points) After consulting with a meteorologist, he recommends to use the following variables for clustering purposes: air pressure, air temp, avg wind direction, avg wind speed, max wind direction, max wind speed, and relative humidity. Transform all the variables of interest to 0-1 scale.**"
   ]
  },
  {
   "cell_type": "code",
   "execution_count": null,
   "id": "1b75c78e",
   "metadata": {},
   "outputs": [],
   "source": []
  },
  {
   "cell_type": "markdown",
   "id": "2b1e7129",
   "metadata": {},
   "source": [
    "**(c) (8 points) Using the silhouette score, estimate the number of clusters for this dataset. Consider 2 to 20 clusters. Make sure to use n init = 20 in the KMeans function from the sklearn.cluster library.**"
   ]
  },
  {
   "cell_type": "code",
   "execution_count": null,
   "id": "1b6d86cc",
   "metadata": {},
   "outputs": [],
   "source": []
  },
  {
   "cell_type": "markdown",
   "id": "207387db",
   "metadata": {},
   "source": [
    "**(d) (6 points) Using the KMeans function from the sklearn.cluster library, cluster the customers into the number of clusters estimated from part (c).**"
   ]
  },
  {
   "cell_type": "code",
   "execution_count": null,
   "id": "3898eaf0",
   "metadata": {},
   "outputs": [],
   "source": []
  },
  {
   "cell_type": "markdown",
   "id": "f1b97f6d",
   "metadata": {},
   "source": [
    "**(e) (8 points) Describe each of the clusters. Does the clustering results make sense? if not, suggest how would improve this analysis.**"
   ]
  },
  {
   "cell_type": "code",
   "execution_count": null,
   "id": "221c8797",
   "metadata": {},
   "outputs": [],
   "source": []
  }
 ],
 "metadata": {
  "kernelspec": {
   "display_name": "conda_python3",
   "language": "python",
   "name": "conda_python3"
  },
  "language_info": {
   "codemirror_mode": {
    "name": "ipython",
    "version": 3
   },
   "file_extension": ".py",
   "mimetype": "text/x-python",
   "name": "python",
   "nbconvert_exporter": "python",
   "pygments_lexer": "ipython3",
   "version": "3.8.12"
  }
 },
 "nbformat": 4,
 "nbformat_minor": 5
}
